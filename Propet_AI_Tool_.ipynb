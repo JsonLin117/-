{
  "nbformat": 4,
  "nbformat_minor": 0,
  "metadata": {
    "colab": {
      "provenance": [],
      "collapsed_sections": [
        "n6TdD1IC9o33",
        "KTZpCBJy_u0O",
        "U01UNZka_0Li",
        "OvDnB-avAFM8",
        "-cqu-WuiBBrD",
        "9W-5IvaqI-rJ",
        "V-c3Y-WMzheK",
        "w0Zv7t2B0EiW",
        "5yguMiGBrVQU",
        "xEUfkkC7zSAm",
        "W8ONjql8jCdZ",
        "Lp8fIaAIjOG1",
        "G8SsM5jMjQHN",
        "OiSKou10NiTY",
        "0-aL8KMnwsoq",
        "nGXluLhe2_T5",
        "Hbm72w8vyHzh",
        "TNoRWcoKyLbl"
      ],
      "gpuType": "T4",
      "authorship_tag": "ABX9TyPmM96PnJmMncjDuhdm6+qr",
      "include_colab_link": true
    },
    "kernelspec": {
      "name": "python3",
      "display_name": "Python 3"
    },
    "language_info": {
      "name": "python"
    },
    "accelerator": "GPU"
  },
  "cells": [
    {
      "cell_type": "markdown",
      "metadata": {
        "id": "view-in-github",
        "colab_type": "text"
      },
      "source": [
        "<a href=\"https://colab.research.google.com/github/JsonLin117/-/blob/main/Propet_AI_Tool_.ipynb\" target=\"_parent\"><img src=\"https://colab.research.google.com/assets/colab-badge.svg\" alt=\"Open In Colab\"/></a>"
      ]
    },
    {
      "cell_type": "markdown",
      "source": [
        "# Import 不論跑什麼東西都先跑這一步"
      ],
      "metadata": {
        "id": "mDrxVWr_9nlg"
      }
    },
    {
      "cell_type": "code",
      "execution_count": 6,
      "metadata": {
        "id": "YGwxjRqOy3WF",
        "colab": {
          "base_uri": "https://localhost:8080/"
        },
        "outputId": "c0ea33b1-3b83-45f9-816b-995ff65181c8"
      },
      "outputs": [
        {
          "output_type": "stream",
          "name": "stdout",
          "text": [
            "Requirement already satisfied: scikeras in /usr/local/lib/python3.10/dist-packages (0.13.0)\n",
            "Requirement already satisfied: keras>=3.2.0 in /usr/local/lib/python3.10/dist-packages (from scikeras) (3.3.3)\n",
            "Requirement already satisfied: scikit-learn>=1.4.2 in /usr/local/lib/python3.10/dist-packages (from scikeras) (1.4.2)\n",
            "Requirement already satisfied: absl-py in /usr/local/lib/python3.10/dist-packages (from keras>=3.2.0->scikeras) (1.4.0)\n",
            "Requirement already satisfied: numpy in /usr/local/lib/python3.10/dist-packages (from keras>=3.2.0->scikeras) (1.25.2)\n",
            "Requirement already satisfied: rich in /usr/local/lib/python3.10/dist-packages (from keras>=3.2.0->scikeras) (13.7.1)\n",
            "Requirement already satisfied: namex in /usr/local/lib/python3.10/dist-packages (from keras>=3.2.0->scikeras) (0.0.8)\n",
            "Requirement already satisfied: h5py in /usr/local/lib/python3.10/dist-packages (from keras>=3.2.0->scikeras) (3.9.0)\n",
            "Requirement already satisfied: optree in /usr/local/lib/python3.10/dist-packages (from keras>=3.2.0->scikeras) (0.11.0)\n",
            "Requirement already satisfied: ml-dtypes in /usr/local/lib/python3.10/dist-packages (from keras>=3.2.0->scikeras) (0.2.0)\n",
            "Requirement already satisfied: scipy>=1.6.0 in /usr/local/lib/python3.10/dist-packages (from scikit-learn>=1.4.2->scikeras) (1.11.4)\n",
            "Requirement already satisfied: joblib>=1.2.0 in /usr/local/lib/python3.10/dist-packages (from scikit-learn>=1.4.2->scikeras) (1.4.2)\n",
            "Requirement already satisfied: threadpoolctl>=2.0.0 in /usr/local/lib/python3.10/dist-packages (from scikit-learn>=1.4.2->scikeras) (3.5.0)\n",
            "Requirement already satisfied: typing-extensions>=4.0.0 in /usr/local/lib/python3.10/dist-packages (from optree->keras>=3.2.0->scikeras) (4.11.0)\n",
            "Requirement already satisfied: markdown-it-py>=2.2.0 in /usr/local/lib/python3.10/dist-packages (from rich->keras>=3.2.0->scikeras) (3.0.0)\n",
            "Requirement already satisfied: pygments<3.0.0,>=2.13.0 in /usr/local/lib/python3.10/dist-packages (from rich->keras>=3.2.0->scikeras) (2.16.1)\n",
            "Requirement already satisfied: mdurl~=0.1 in /usr/local/lib/python3.10/dist-packages (from markdown-it-py>=2.2.0->rich->keras>=3.2.0->scikeras) (0.1.2)\n"
          ]
        }
      ],
      "source": [
        "import pandas as pd\n",
        "import numpy as np\n",
        "import matplotlib.pyplot as plt\n",
        "import seaborn as sns\n",
        "%matplotlib inline\n",
        "from collections import Counter\n",
        "\n",
        "from sklearn.datasets import load_iris, make_moons, load_diabetes\n",
        "\n",
        "from sklearn import ensemble, gaussian_process, linear_model, naive_bayes, neighbors, svm, tree, discriminant_analysis\n",
        "from sklearn.linear_model import LogisticRegression, SGDClassifier, RidgeClassifier, LassoCV, LinearRegression, Ridge, ElasticNet, SGDRegressor, Lars, HuberRegressor, TheilSenRegressor, Lasso, OrthogonalMatchingPursuit, ARDRegression, BayesianRidge\n",
        "from sklearn.ensemble import RandomForestClassifier, AdaBoostClassifier, GradientBoostingClassifier, ExtraTreesClassifier, VotingClassifier, BaggingClassifier,RandomForestRegressor, GradientBoostingRegressor, AdaBoostRegressor, BaggingRegressor, ExtraTreesRegressor\n",
        "from sklearn.neighbors import KNeighborsClassifier, KNeighborsRegressor\n",
        "from sklearn.tree import DecisionTreeClassifier, DecisionTreeRegressor\n",
        "from sklearn.svm import SVC, LinearSVC, NuSVC, SVR, LinearSVR, NuSVR\n",
        "from xgboost import XGBClassifier, XGBRegressor\n",
        "from lightgbm import LGBMClassifier, LGBMRegressor\n",
        "\n",
        "\n",
        "from sklearn.discriminant_analysis import LinearDiscriminantAnalysis\n",
        "\n",
        "from sklearn.neural_network import MLPClassifier\n",
        "\n",
        "\n",
        "from sklearn.model_selection import GridSearchCV, cross_val_score, StratifiedKFold, learning_curve, ShuffleSplit, cross_validate, train_test_split, RandomizedSearchCV\n",
        "from sklearn.metrics import accuracy_score, roc_curve, auc, roc_auc_score, confusion_matrix, mean_squared_error\n",
        "from sklearn.preprocessing import LabelEncoder, OneHotEncoder, StandardScaler, MinMaxScaler, RobustScaler,  MaxAbsScaler, Binarizer, FunctionTransformer\n",
        "from sklearn.decomposition import PCA, KernelPCA\n",
        "from sklearn.manifold import TSNE\n",
        "from sklearn.feature_selection import SelectKBest, chi2, VarianceThreshold, SelectFromModel, RFE, RFECV\n",
        "from sklearn.experimental import enable_iterative_imputer\n",
        "from sklearn.impute import IterativeImputer, SimpleImputer\n",
        "from sklearn.cluster import DBSCAN\n",
        "from scipy import stats\n",
        "from sklearn.compose import ColumnTransformer\n",
        "from sklearn.pipeline import Pipeline\n",
        "\n",
        "import warnings\n",
        "from sklearn.exceptions import ConvergenceWarning\n",
        "\n",
        "\n",
        "from keras.models import Model\n",
        "from keras.layers import Input, Dense\n",
        "from keras.optimizers import Adam\n",
        "!pip install scikeras\n",
        "import scikeras\n",
        "from scikeras.wrappers import KerasClassifier, KerasRegressor\n",
        "from scipy.stats import randint\n",
        "# Ignore ConvergenceWarning\n",
        "warnings.filterwarnings(\"ignore\", category = ConvergenceWarning)\n",
        "\n",
        "sns.set(style='white', context='notebook', palette='deep')"
      ]
    },
    {
      "cell_type": "code",
      "source": [
        "# 如果是csv\n",
        "df = pd.read_csv('這裡填上檔案名稱.csv')\n",
        "df.head()"
      ],
      "metadata": {
        "id": "mwdSRUwjeD9z"
      },
      "execution_count": null,
      "outputs": []
    },
    {
      "cell_type": "code",
      "source": [
        "#如果是excel\n",
        "df = pd.read_excel('這裡填上檔案名稱.xlsx')\n",
        "df.head()"
      ],
      "metadata": {
        "id": "4FBBtw1feQV6"
      },
      "execution_count": null,
      "outputs": []
    },
    {
      "cell_type": "code",
      "source": [
        "# 假設y 是在最後一列\n",
        "X = df.iloc[:, :-1]\n",
        "y = df.iloc[:, -1]"
      ],
      "metadata": {
        "id": "2KgbrZmdeb-X"
      },
      "execution_count": null,
      "outputs": []
    },
    {
      "cell_type": "markdown",
      "source": [
        "# Visualize Data & Data Exploration"
      ],
      "metadata": {
        "id": "n6TdD1IC9o33"
      }
    },
    {
      "cell_type": "markdown",
      "source": [
        "## 統計概述"
      ],
      "metadata": {
        "id": "KTZpCBJy_u0O"
      }
    },
    {
      "cell_type": "code",
      "source": [
        "X, y = load_iris(return_X_y=True)"
      ],
      "metadata": {
        "id": "a3SYNWPE9rt-"
      },
      "execution_count": null,
      "outputs": []
    },
    {
      "cell_type": "code",
      "source": [
        "def print_array_statistics(X):\n",
        "    \"\"\"\n",
        "    計算並打印數據集的統計量\n",
        "\n",
        "    參數:\n",
        "    X (ndarray): 特徵\n",
        "\n",
        "    返回:\n",
        "    None\n",
        "    \"\"\"\n",
        "    mean = np.mean(X, axis=0)\n",
        "    median = np.median(X, axis=0)\n",
        "    std_dev = np.std(X, axis=0)\n",
        "    variance = np.var(X, axis=0)\n",
        "\n",
        "    print(f\"Mean: {mean}\")\n",
        "    print(f\"Median: {median}\")\n",
        "    print(f\"Standard Deviation: {std_dev}\")\n",
        "    print(f\"Variance: {variance}\")"
      ],
      "metadata": {
        "colab": {
          "base_uri": "https://localhost:8080/"
        },
        "id": "M4cvmqOG9-qi",
        "outputId": "f9ed7026-6fe7-42e1-f580-7e7d3d442ef1"
      },
      "execution_count": null,
      "outputs": [
        {
          "output_type": "stream",
          "name": "stdout",
          "text": [
            "Mean: [5.84333333 3.05733333 3.758      1.19933333]\n",
            "Median: [5.8  3.   4.35 1.3 ]\n",
            "Standard Deviation: [0.82530129 0.43441097 1.75940407 0.75969263]\n",
            "Variance: [0.68112222 0.18871289 3.09550267 0.57713289]\n"
          ]
        }
      ]
    },
    {
      "cell_type": "code",
      "source": [
        "# DataFrame 的情況\n",
        "df = pd.DataFrame(X)\n",
        "df.describe()"
      ],
      "metadata": {
        "colab": {
          "base_uri": "https://localhost:8080/"
        },
        "id": "0IC957kA-fZE",
        "outputId": "7a579964-06a7-4bb0-ea95-06510db413ed"
      },
      "execution_count": null,
      "outputs": [
        {
          "output_type": "execute_result",
          "data": {
            "text/plain": [
              "                0           1           2           3\n",
              "count  150.000000  150.000000  150.000000  150.000000\n",
              "mean     5.843333    3.057333    3.758000    1.199333\n",
              "std      0.828066    0.435866    1.765298    0.762238\n",
              "min      4.300000    2.000000    1.000000    0.100000\n",
              "25%      5.100000    2.800000    1.600000    0.300000\n",
              "50%      5.800000    3.000000    4.350000    1.300000\n",
              "75%      6.400000    3.300000    5.100000    1.800000\n",
              "max      7.900000    4.400000    6.900000    2.500000"
            ],
            "text/html": [
              "\n",
              "  <div id=\"df-e5d14d3a-3566-40e2-b02b-8d4a72a76a09\" class=\"colab-df-container\">\n",
              "    <div>\n",
              "<style scoped>\n",
              "    .dataframe tbody tr th:only-of-type {\n",
              "        vertical-align: middle;\n",
              "    }\n",
              "\n",
              "    .dataframe tbody tr th {\n",
              "        vertical-align: top;\n",
              "    }\n",
              "\n",
              "    .dataframe thead th {\n",
              "        text-align: right;\n",
              "    }\n",
              "</style>\n",
              "<table border=\"1\" class=\"dataframe\">\n",
              "  <thead>\n",
              "    <tr style=\"text-align: right;\">\n",
              "      <th></th>\n",
              "      <th>0</th>\n",
              "      <th>1</th>\n",
              "      <th>2</th>\n",
              "      <th>3</th>\n",
              "    </tr>\n",
              "  </thead>\n",
              "  <tbody>\n",
              "    <tr>\n",
              "      <th>count</th>\n",
              "      <td>150.000000</td>\n",
              "      <td>150.000000</td>\n",
              "      <td>150.000000</td>\n",
              "      <td>150.000000</td>\n",
              "    </tr>\n",
              "    <tr>\n",
              "      <th>mean</th>\n",
              "      <td>5.843333</td>\n",
              "      <td>3.057333</td>\n",
              "      <td>3.758000</td>\n",
              "      <td>1.199333</td>\n",
              "    </tr>\n",
              "    <tr>\n",
              "      <th>std</th>\n",
              "      <td>0.828066</td>\n",
              "      <td>0.435866</td>\n",
              "      <td>1.765298</td>\n",
              "      <td>0.762238</td>\n",
              "    </tr>\n",
              "    <tr>\n",
              "      <th>min</th>\n",
              "      <td>4.300000</td>\n",
              "      <td>2.000000</td>\n",
              "      <td>1.000000</td>\n",
              "      <td>0.100000</td>\n",
              "    </tr>\n",
              "    <tr>\n",
              "      <th>25%</th>\n",
              "      <td>5.100000</td>\n",
              "      <td>2.800000</td>\n",
              "      <td>1.600000</td>\n",
              "      <td>0.300000</td>\n",
              "    </tr>\n",
              "    <tr>\n",
              "      <th>50%</th>\n",
              "      <td>5.800000</td>\n",
              "      <td>3.000000</td>\n",
              "      <td>4.350000</td>\n",
              "      <td>1.300000</td>\n",
              "    </tr>\n",
              "    <tr>\n",
              "      <th>75%</th>\n",
              "      <td>6.400000</td>\n",
              "      <td>3.300000</td>\n",
              "      <td>5.100000</td>\n",
              "      <td>1.800000</td>\n",
              "    </tr>\n",
              "    <tr>\n",
              "      <th>max</th>\n",
              "      <td>7.900000</td>\n",
              "      <td>4.400000</td>\n",
              "      <td>6.900000</td>\n",
              "      <td>2.500000</td>\n",
              "    </tr>\n",
              "  </tbody>\n",
              "</table>\n",
              "</div>\n",
              "    <div class=\"colab-df-buttons\">\n",
              "\n",
              "  <div class=\"colab-df-container\">\n",
              "    <button class=\"colab-df-convert\" onclick=\"convertToInteractive('df-e5d14d3a-3566-40e2-b02b-8d4a72a76a09')\"\n",
              "            title=\"Convert this dataframe to an interactive table.\"\n",
              "            style=\"display:none;\">\n",
              "\n",
              "  <svg xmlns=\"http://www.w3.org/2000/svg\" height=\"24px\" viewBox=\"0 -960 960 960\">\n",
              "    <path d=\"M120-120v-720h720v720H120Zm60-500h600v-160H180v160Zm220 220h160v-160H400v160Zm0 220h160v-160H400v160ZM180-400h160v-160H180v160Zm440 0h160v-160H620v160ZM180-180h160v-160H180v160Zm440 0h160v-160H620v160Z\"/>\n",
              "  </svg>\n",
              "    </button>\n",
              "\n",
              "  <style>\n",
              "    .colab-df-container {\n",
              "      display:flex;\n",
              "      gap: 12px;\n",
              "    }\n",
              "\n",
              "    .colab-df-convert {\n",
              "      background-color: #E8F0FE;\n",
              "      border: none;\n",
              "      border-radius: 50%;\n",
              "      cursor: pointer;\n",
              "      display: none;\n",
              "      fill: #1967D2;\n",
              "      height: 32px;\n",
              "      padding: 0 0 0 0;\n",
              "      width: 32px;\n",
              "    }\n",
              "\n",
              "    .colab-df-convert:hover {\n",
              "      background-color: #E2EBFA;\n",
              "      box-shadow: 0px 1px 2px rgba(60, 64, 67, 0.3), 0px 1px 3px 1px rgba(60, 64, 67, 0.15);\n",
              "      fill: #174EA6;\n",
              "    }\n",
              "\n",
              "    .colab-df-buttons div {\n",
              "      margin-bottom: 4px;\n",
              "    }\n",
              "\n",
              "    [theme=dark] .colab-df-convert {\n",
              "      background-color: #3B4455;\n",
              "      fill: #D2E3FC;\n",
              "    }\n",
              "\n",
              "    [theme=dark] .colab-df-convert:hover {\n",
              "      background-color: #434B5C;\n",
              "      box-shadow: 0px 1px 3px 1px rgba(0, 0, 0, 0.15);\n",
              "      filter: drop-shadow(0px 1px 2px rgba(0, 0, 0, 0.3));\n",
              "      fill: #FFFFFF;\n",
              "    }\n",
              "  </style>\n",
              "\n",
              "    <script>\n",
              "      const buttonEl =\n",
              "        document.querySelector('#df-e5d14d3a-3566-40e2-b02b-8d4a72a76a09 button.colab-df-convert');\n",
              "      buttonEl.style.display =\n",
              "        google.colab.kernel.accessAllowed ? 'block' : 'none';\n",
              "\n",
              "      async function convertToInteractive(key) {\n",
              "        const element = document.querySelector('#df-e5d14d3a-3566-40e2-b02b-8d4a72a76a09');\n",
              "        const dataTable =\n",
              "          await google.colab.kernel.invokeFunction('convertToInteractive',\n",
              "                                                    [key], {});\n",
              "        if (!dataTable) return;\n",
              "\n",
              "        const docLinkHtml = 'Like what you see? Visit the ' +\n",
              "          '<a target=\"_blank\" href=https://colab.research.google.com/notebooks/data_table.ipynb>data table notebook</a>'\n",
              "          + ' to learn more about interactive tables.';\n",
              "        element.innerHTML = '';\n",
              "        dataTable['output_type'] = 'display_data';\n",
              "        await google.colab.output.renderOutput(dataTable, element);\n",
              "        const docLink = document.createElement('div');\n",
              "        docLink.innerHTML = docLinkHtml;\n",
              "        element.appendChild(docLink);\n",
              "      }\n",
              "    </script>\n",
              "  </div>\n",
              "\n",
              "\n",
              "<div id=\"df-09586454-2028-474e-996f-28bc40d96f98\">\n",
              "  <button class=\"colab-df-quickchart\" onclick=\"quickchart('df-09586454-2028-474e-996f-28bc40d96f98')\"\n",
              "            title=\"Suggest charts\"\n",
              "            style=\"display:none;\">\n",
              "\n",
              "<svg xmlns=\"http://www.w3.org/2000/svg\" height=\"24px\"viewBox=\"0 0 24 24\"\n",
              "     width=\"24px\">\n",
              "    <g>\n",
              "        <path d=\"M19 3H5c-1.1 0-2 .9-2 2v14c0 1.1.9 2 2 2h14c1.1 0 2-.9 2-2V5c0-1.1-.9-2-2-2zM9 17H7v-7h2v7zm4 0h-2V7h2v10zm4 0h-2v-4h2v4z\"/>\n",
              "    </g>\n",
              "</svg>\n",
              "  </button>\n",
              "\n",
              "<style>\n",
              "  .colab-df-quickchart {\n",
              "      --bg-color: #E8F0FE;\n",
              "      --fill-color: #1967D2;\n",
              "      --hover-bg-color: #E2EBFA;\n",
              "      --hover-fill-color: #174EA6;\n",
              "      --disabled-fill-color: #AAA;\n",
              "      --disabled-bg-color: #DDD;\n",
              "  }\n",
              "\n",
              "  [theme=dark] .colab-df-quickchart {\n",
              "      --bg-color: #3B4455;\n",
              "      --fill-color: #D2E3FC;\n",
              "      --hover-bg-color: #434B5C;\n",
              "      --hover-fill-color: #FFFFFF;\n",
              "      --disabled-bg-color: #3B4455;\n",
              "      --disabled-fill-color: #666;\n",
              "  }\n",
              "\n",
              "  .colab-df-quickchart {\n",
              "    background-color: var(--bg-color);\n",
              "    border: none;\n",
              "    border-radius: 50%;\n",
              "    cursor: pointer;\n",
              "    display: none;\n",
              "    fill: var(--fill-color);\n",
              "    height: 32px;\n",
              "    padding: 0;\n",
              "    width: 32px;\n",
              "  }\n",
              "\n",
              "  .colab-df-quickchart:hover {\n",
              "    background-color: var(--hover-bg-color);\n",
              "    box-shadow: 0 1px 2px rgba(60, 64, 67, 0.3), 0 1px 3px 1px rgba(60, 64, 67, 0.15);\n",
              "    fill: var(--button-hover-fill-color);\n",
              "  }\n",
              "\n",
              "  .colab-df-quickchart-complete:disabled,\n",
              "  .colab-df-quickchart-complete:disabled:hover {\n",
              "    background-color: var(--disabled-bg-color);\n",
              "    fill: var(--disabled-fill-color);\n",
              "    box-shadow: none;\n",
              "  }\n",
              "\n",
              "  .colab-df-spinner {\n",
              "    border: 2px solid var(--fill-color);\n",
              "    border-color: transparent;\n",
              "    border-bottom-color: var(--fill-color);\n",
              "    animation:\n",
              "      spin 1s steps(1) infinite;\n",
              "  }\n",
              "\n",
              "  @keyframes spin {\n",
              "    0% {\n",
              "      border-color: transparent;\n",
              "      border-bottom-color: var(--fill-color);\n",
              "      border-left-color: var(--fill-color);\n",
              "    }\n",
              "    20% {\n",
              "      border-color: transparent;\n",
              "      border-left-color: var(--fill-color);\n",
              "      border-top-color: var(--fill-color);\n",
              "    }\n",
              "    30% {\n",
              "      border-color: transparent;\n",
              "      border-left-color: var(--fill-color);\n",
              "      border-top-color: var(--fill-color);\n",
              "      border-right-color: var(--fill-color);\n",
              "    }\n",
              "    40% {\n",
              "      border-color: transparent;\n",
              "      border-right-color: var(--fill-color);\n",
              "      border-top-color: var(--fill-color);\n",
              "    }\n",
              "    60% {\n",
              "      border-color: transparent;\n",
              "      border-right-color: var(--fill-color);\n",
              "    }\n",
              "    80% {\n",
              "      border-color: transparent;\n",
              "      border-right-color: var(--fill-color);\n",
              "      border-bottom-color: var(--fill-color);\n",
              "    }\n",
              "    90% {\n",
              "      border-color: transparent;\n",
              "      border-bottom-color: var(--fill-color);\n",
              "    }\n",
              "  }\n",
              "</style>\n",
              "\n",
              "  <script>\n",
              "    async function quickchart(key) {\n",
              "      const quickchartButtonEl =\n",
              "        document.querySelector('#' + key + ' button');\n",
              "      quickchartButtonEl.disabled = true;  // To prevent multiple clicks.\n",
              "      quickchartButtonEl.classList.add('colab-df-spinner');\n",
              "      try {\n",
              "        const charts = await google.colab.kernel.invokeFunction(\n",
              "            'suggestCharts', [key], {});\n",
              "      } catch (error) {\n",
              "        console.error('Error during call to suggestCharts:', error);\n",
              "      }\n",
              "      quickchartButtonEl.classList.remove('colab-df-spinner');\n",
              "      quickchartButtonEl.classList.add('colab-df-quickchart-complete');\n",
              "    }\n",
              "    (() => {\n",
              "      let quickchartButtonEl =\n",
              "        document.querySelector('#df-09586454-2028-474e-996f-28bc40d96f98 button');\n",
              "      quickchartButtonEl.style.display =\n",
              "        google.colab.kernel.accessAllowed ? 'block' : 'none';\n",
              "    })();\n",
              "  </script>\n",
              "</div>\n",
              "\n",
              "    </div>\n",
              "  </div>\n"
            ],
            "application/vnd.google.colaboratory.intrinsic+json": {
              "type": "dataframe",
              "summary": "{\n  \"name\": \"df\",\n  \"rows\": 8,\n  \"fields\": [\n    {\n      \"column\": 0,\n      \"properties\": {\n        \"dtype\": \"number\",\n        \"std\": 51.24711349471842,\n        \"min\": 0.828066127977863,\n        \"max\": 150.0,\n        \"num_unique_values\": 8,\n        \"samples\": [\n          5.843333333333334,\n          5.8,\n          150.0\n        ],\n        \"semantic_type\": \"\",\n        \"description\": \"\"\n      }\n    },\n    {\n      \"column\": 1,\n      \"properties\": {\n        \"dtype\": \"number\",\n        \"std\": 52.08617800869865,\n        \"min\": 0.4358662849366982,\n        \"max\": 150.0,\n        \"num_unique_values\": 8,\n        \"samples\": [\n          3.0573333333333337,\n          3.0,\n          150.0\n        ],\n        \"semantic_type\": \"\",\n        \"description\": \"\"\n      }\n    },\n    {\n      \"column\": 2,\n      \"properties\": {\n        \"dtype\": \"number\",\n        \"std\": 51.83521261418364,\n        \"min\": 1.0,\n        \"max\": 150.0,\n        \"num_unique_values\": 8,\n        \"samples\": [\n          3.7580000000000005,\n          4.35,\n          150.0\n        ],\n        \"semantic_type\": \"\",\n        \"description\": \"\"\n      }\n    },\n    {\n      \"column\": 3,\n      \"properties\": {\n        \"dtype\": \"number\",\n        \"std\": 52.63664824261751,\n        \"min\": 0.1,\n        \"max\": 150.0,\n        \"num_unique_values\": 8,\n        \"samples\": [\n          1.1993333333333336,\n          1.3,\n          150.0\n        ],\n        \"semantic_type\": \"\",\n        \"description\": \"\"\n      }\n    }\n  ]\n}"
            }
          },
          "metadata": {},
          "execution_count": 19
        }
      ]
    },
    {
      "cell_type": "markdown",
      "source": [
        "## 熱力圖"
      ],
      "metadata": {
        "id": "U01UNZka_0Li"
      }
    },
    {
      "cell_type": "code",
      "source": [
        "# 假設 train 是已載入的 DataFrame\n",
        "# train = pd.read_csv('your_data.csv') # 模擬載入數據\n",
        "\n",
        "def plot_correlation_heatmap(df, y_col, x_cols, cmap='coolwarm', fmt=\".2f\"):\n",
        "     \"\"\"\n",
        "     繪製特定列的相關性熱力圖。\n",
        "\n",
        "     :param df: DataFrame，包含資料。\n",
        "     :param y_col: 目標變數的列名。\n",
        "     :param x_cols: list of strings，特徵變數的列名清單。\n",
        "     :param cmap: 熱力圖映射。('coolwarm', 'BrBG')\n",
        "     :param fmt: 顯示在熱力圖單元格中的浮點數格式。\n",
        "     \"\"\"\n",
        "     # 檢查列名是否存在於DataFrame中\n",
        "     missing_cols = [col for col in [y_col] + x_cols if col not in df.columns]\n",
        "     if missing_cols:\n",
        "         raise ValueError(f\"Columns {missing_cols} not in DataFrame.\")\n",
        "\n",
        "     # 建立相關性矩陣\n",
        "     correlation_matrix = df[[y_col] + x_cols].corr()\n",
        "\n",
        "     # 繪製熱力圖\n",
        "     plt.figure(figsize=(10, 8))\n",
        "     sns.heatmap(correlation_matrix, annot=True, fmt=fmt, cmap=cmap)\n",
        "     plt.title('Correlation Heatmap')\n",
        "     plt.show()\n",
        "\n",
        "# 範例使用\n",
        "train = pd.DataFrame({\n",
        "     'y': [1, 2, 3, 4, 5],\n",
        "     'X1': [5, 4, 3, 2, 1],\n",
        "     'X2': [1, 2, 1, 2, 1],\n",
        "     'X3': [5, 3, 4, 2, 1],\n",
        "     'X4': [7, 8, 7, 8, 7]\n",
        "})"
      ],
      "metadata": {
        "id": "ueE8m40e_2TQ"
      },
      "execution_count": null,
      "outputs": []
    },
    {
      "cell_type": "code",
      "source": [
        "# 呼叫函數，指定目標變數和特徵變數\n",
        "plot_correlation_heatmap(train, 'y', ['X1', 'X2', 'X3', 'X4']) # 自行更換"
      ],
      "metadata": {
        "id": "K2uUm3jcH0aL"
      },
      "execution_count": null,
      "outputs": []
    },
    {
      "cell_type": "code",
      "source": [
        "def plot_correlation_heatmap(X, y, cmap='coolwarm', fmt=\".2f\"):\n",
        "    df = X.copy()\n",
        "    df['target'] = y\n",
        "    plot_correlation_heatmap_from_df(df, 'target', list(X.columns), cmap, fmt)\n",
        "\n",
        "# 如果已經區分 X 和 y\n",
        "# X = train.iloc[:, :-1]\n",
        "# y = train.iloc[:, -1]\n",
        "\n",
        "# 繪製相關性熱力圖\n",
        "plot_correlation_heatmap(X, y)"
      ],
      "metadata": {
        "id": "BmPsMdanHqGx"
      },
      "execution_count": null,
      "outputs": []
    },
    {
      "cell_type": "markdown",
      "source": [
        "## 比較X特徵與y的關係 長方圖"
      ],
      "metadata": {
        "id": "OvDnB-avAFM8"
      }
    },
    {
      "cell_type": "code",
      "source": [
        "def plot_categorical_relationship(df, x_col, y_col, kind=\"bar\", palette=\"muted\", title=\"\", xlabel=\"\", ylabel=\"\", hue=None, legend=True):\n",
        "     \"\"\"\n",
        "     繪製分類關係圖，並根據hue參數分層顯示資料。\n",
        "\n",
        "     :param df: DataFrame，包含資料。\n",
        "     :param x_col: X軸上的特徵列名。\n",
        "     :param y_col: Y軸上的特徵列名。\n",
        "     :param kind: 圖的種類（'bar', 'box', 'violin', 'count', 'point'）。\n",
        "     :param palette: 使用的調色盤。\n",
        "     :param title: 圖的標題。\n",
        "     :param xlabel: X軸的標籤。\n",
        "     :param ylabel: Y軸的標籤。\n",
        "     :param hue: 用於在圖中分層的分類變數列名。\n",
        "     :param legend: 是否顯示圖例。\n",
        "     \"\"\"\n",
        "     # 建立圖形\n",
        "     g = sns.catplot(x=x_col, y=y_col, hue=hue, data=df, kind=kind, palette=palette, legend=legend)\n",
        "     g.despine(left=True) # 移除左側邊框線\n",
        "     g.set_axis_labels(xlabel, ylabel) # 設定軸標籤\n",
        "     g.fig.suptitle(title) # 設定標題\n",
        "     g.fig.subplots_adjust(top=0.9) # 調整標題位置\n",
        "\n",
        "     if not legend:\n",
        "         g._legend.remove() # 若不顯示圖例，請把 legend = 'False'\n",
        "\n",
        "     # 顯示圖形\n",
        "     plt.show()\n",
        "\n",
        "# 範例使用\n",
        "data = pd.DataFrame({\n",
        "     'y': [1, 2, 3, 4, 5],\n",
        "     'X1': ['A', 'B', 'A', 'B', 'A'],\n",
        "     'Group': ['One', 'One', 'Two', 'Two', 'One']\n",
        "})"
      ],
      "metadata": {
        "id": "Bpiot-fXCh1y"
      },
      "execution_count": null,
      "outputs": []
    },
    {
      "cell_type": "code",
      "source": [
        "# 呼叫函數\n",
        "plot_categorical_relationship(data, 'X1', 'y', kind=\"bar\", palette=\"muted\", title=\"Exploration of X1 vs Y\", xlabel=\"X1 Category\", ylabel=\"Value\", hue='Group', legend=True)"
      ],
      "metadata": {
        "colab": {
          "base_uri": "https://localhost:8080/"
        },
        "id": "jm7tdsBJCinA",
        "outputId": "6890a5a5-c4a6-4e07-c795-e2fb35fad047"
      },
      "execution_count": null,
      "outputs": [
        {
          "output_type": "display_data",
          "data": {
            "text/plain": [
              "<Figure size 586.125x500 with 1 Axes>"
            ],
            "image/png": "[encoded data removed]"
          },
          "metadata": {}
        }
      ]
    },
    {
      "cell_type": "code",
      "source": [
        "def plot_all_categorical_relationships(X, y, kind=\"bar\", palette=\"muted\", title_prefix=\"\", xlabel=\"\", ylabel=\"\", hue=None, legend=True):\n",
        "    \"\"\"\n",
        "    繪製所有特徵與目標變數之間的分類關係圖。\n",
        "\n",
        "    :param X: DataFrame，特徵變數。\n",
        "    :param y: Series，目標變數。\n",
        "    :param kind: 圖的種類（'bar', 'box', 'violin', 'count', 'point'）。\n",
        "    :param palette: 使用的調色盤。\n",
        "    :param title_prefix: 圖的標題前綴。\n",
        "    :param xlabel: X軸的標籤。\n",
        "    :param ylabel: Y軸的標籤。\n",
        "    :param hue: 用於在圖中分層的分類變數列名。\n",
        "    :param legend: 是否顯示圖例。\n",
        "    \"\"\"\n",
        "    df = X.copy()\n",
        "    df['target'] = y\n",
        "\n",
        "    for col in X.columns:\n",
        "        plot_categorical_relationship(df, x_col=col, y_col='target', kind=kind, palette=palette,\n",
        "                                      title=f\"{title_prefix} {col} vs target\", xlabel=col, ylabel=ylabel,\n",
        "                                      hue=hue, legend=legend)\n",
        "\n",
        "# 如果已經區分X, y\n",
        "# X = train.iloc[:, :-1]\n",
        "# y = train.iloc[:, -1]\n",
        "\n",
        "# 繪製所有特徵與目標變數之間的分類關係圖\n",
        "plot_all_categorical_relationships(X, y, kind=\"bar\", title_prefix=\"Relationship between\", xlabel=\"\", ylabel=\"Target\")"
      ],
      "metadata": {
        "id": "5Pi55U7sIees"
      },
      "execution_count": null,
      "outputs": []
    },
    {
      "cell_type": "code",
      "source": [
        "# 如果是分類 可以看每個分類下與X的關係\n",
        "# Explore X1 vs y(可能有多個分類 ex:(Up, Down, Steady))\n",
        "g = sns.FacetGrid(train, col=\"y\")\n",
        "g = g.map(sns.histplot, \"X1\", kde=True, stat = 'density', kde_kws=dict(cut=3))"
      ],
      "metadata": {
        "id": "ghQgpLcvAflS"
      },
      "execution_count": null,
      "outputs": []
    },
    {
      "cell_type": "markdown",
      "source": [
        "## 查看特徵的分布圖"
      ],
      "metadata": {
        "id": "-cqu-WuiBBrD"
      }
    },
    {
      "cell_type": "code",
      "source": [
        "def plot_feature_distribution(df, feature_name, color=\"m\", title=\"Feature Distribution\"):\n",
        "     \"\"\"\n",
        "     繪製特徵的分佈圖，包括直方圖和核密度估計。\n",
        "\n",
        "     :param df: DataFrame，包含資料。\n",
        "     :param feature_name: 要繪製的特徵列名。\n",
        "     :param color: 圖表使用的顏色。\n",
        "     :param title:圖表的標題。\n",
        "     \"\"\"\n",
        "     # 檢查特徵是否存在於DataFrame中\n",
        "     if feature_name not in df.columns:\n",
        "         raise ValueError(f\"{feature_name} does not exist in the DataFrame.\")\n",
        "\n",
        "     # 繪製核密度估計和直方圖\n",
        "     plt.figure(figsize=(10, 6))\n",
        "     sns.kdeplot(df[feature_name], color=color, label=\"Kernel Density Estimate\", fill=True)\n",
        "     sns.histplot(df[feature_name], color=color, kde=True, stat='density', alpha=0.3)\n",
        "     plt.title(title)\n",
        "     plt.xlabel(feature_name)\n",
        "     plt.ylabel('Density')\n",
        "     plt.legend(title=\"Skewness\", labels=[\"%.2f\" % df[feature_name].skew()])\n",
        "     plt.grid(True)\n",
        "     plt.show()\n",
        "\n",
        "# 範例資料和使用\n",
        "data = pd.DataFrame({\n",
        "     'X': np.random.gamma(2, 2, 1000) # 產生一些範例數據\n",
        "})"
      ],
      "metadata": {
        "id": "S03jDWgLBEmk"
      },
      "execution_count": null,
      "outputs": []
    },
    {
      "cell_type": "code",
      "source": [
        "plot_feature_distribution(data, 'X', color=\"magenta\", title=\"Exploration of X Distribution\")"
      ],
      "metadata": {
        "colab": {
          "base_uri": "https://localhost:8080/"
        },
        "id": "OLJS185tDmFO",
        "outputId": "97024ae7-3b8d-4692-c89d-c092ac5638c9"
      },
      "execution_count": null,
      "outputs": [
        {
          "output_type": "display_data",
          "data": {
            "text/plain": [
              "<Figure size 1000x600 with 1 Axes>"
            ],
            "image/png": "[encoded data removed]"
          },
          "metadata": {}
        }
      ]
    },
    {
      "cell_type": "code",
      "source": [
        "def plot_all_feature_distributions(df, color=\"m\", title_prefix=\"Feature Distribution: \"):\n",
        "    \"\"\"\n",
        "    繪製所有特徵的分佈圖，包括直方圖和核密度估計。\n",
        "\n",
        "    :param df: DataFrame，包含資料。\n",
        "    :param color: 圖表使用的顏色。\n",
        "    :param title_prefix: 圖表標題的前綴。\n",
        "    \"\"\"\n",
        "    for feature in df.columns:\n",
        "        plot_feature_distribution(df, feature_name=feature, color=color, title=f\"{title_prefix}{feature}\")\n",
        "\n",
        "# 如果已經區分X, y\n",
        "# X = train.iloc[:, :-1]\n",
        "# y = train.iloc[:, -1]\n",
        "\n",
        "# 繪製所有特徵的分佈圖\n",
        "plot_all_feature_distributions(X)"
      ],
      "metadata": {
        "id": "jtu5QeO2I_cJ"
      },
      "execution_count": null,
      "outputs": []
    },
    {
      "cell_type": "code",
      "source": [
        "# 如果分布偏態 需要轉換的話\n",
        "# 調用 transform_feature(df, column_name, transformations) 上面\"數據轉換\"有寫"
      ],
      "metadata": {
        "id": "DcULEoB_D-NP"
      },
      "execution_count": null,
      "outputs": []
    },
    {
      "cell_type": "markdown",
      "source": [
        "## 計數圖 (Count Plot)"
      ],
      "metadata": {
        "id": "9W-5IvaqI-rJ"
      }
    },
    {
      "cell_type": "code",
      "source": [
        "def plot_count(df, x_col, order, palette, title, xlabel, ylabel, ticks, labels, hue=None):\n",
        "     \"\"\"\n",
        "     繪製分類變數的計數圖。\n",
        "\n",
        "     :param df: DataFrame，包含資料。\n",
        "     :param x_col: 要計數的X軸上的特徵列名。\n",
        "     :param order: X軸上顯示的順序。\n",
        "     :param palette: 使用的調色盤。\n",
        "     :param title: 圖的標題。\n",
        "     :param xlabel: X軸的標籤。\n",
        "     :param ylabel: Y軸的標籤。\n",
        "     :param ticks: X軸刻度的位置。\n",
        "     :param labels: X軸刻度的標籤。\n",
        "     :param hue: 用於在圖中分層的分類變數列名。\n",
        "     \"\"\"\n",
        "     # 建立計數圖\n",
        "     if hue:\n",
        "         g = sns.countplot(x=x_col, hue=hue, data=df, order=order, palette=palette)\n",
        "     else:\n",
        "         g = sns.countplot(x=x_col, data=df, order=order, palette=palette)\n",
        "\n",
        "     plt.xlabel(xlabel)\n",
        "     plt.ylabel(ylabel)\n",
        "     plt.title(title)\n",
        "     plt.xticks(ticks=ticks, labels=labels)\n",
        "     if not hue:\n",
        "         plt.legend([],[], frameon=False) # 若沒有使用hue參數，移除圖例\n",
        "     plt.show()\n",
        "\n",
        "# 範例數據\n",
        "data = pd.DataFrame({\n",
        "    'VehicleType': ['Car', 'Truck', 'Motorcycle', 'Bicycle', 'Car', 'Truck', 'Motorcycle', 'Bicycle'],\n",
        "    'Color': ['Red', 'Blue', 'Red', 'Blue', 'Red', 'Blue', 'Red', 'Blue']\n",
        "})"
      ],
      "metadata": {
        "id": "FzH9HuqiJDkY"
      },
      "execution_count": null,
      "outputs": []
    },
    {
      "cell_type": "code",
      "source": [
        "plot_count(\n",
        "    df=data,\n",
        "    x_col='VehicleType',\n",
        "    order=['Car', 'Truck', 'Motorcycle', 'Bicycle'],\n",
        "    palette='Set3',\n",
        "    title='Counts of Different Vehicle Types',\n",
        "    xlabel='Vehicle Type',\n",
        "    ylabel='Count',\n",
        "    ticks=[0, 1, 2, 3],\n",
        "    labels=['Car', 'Truck', 'Motorcycle', 'Bicycle'],\n",
        "    hue='Color'\n",
        ")"
      ],
      "metadata": {
        "colab": {
          "base_uri": "https://localhost:8080/"
        },
        "id": "c1CSUdESJHII",
        "outputId": "954375a9-104a-4a45-faea-4f70abf2e5a1"
      },
      "execution_count": null,
      "outputs": [
        {
          "output_type": "display_data",
          "data": {
            "text/plain": [
              "<Figure size 640x480 with 1 Axes>"
            ],
            "image/png": "[encoded data removed]"
          },
          "metadata": {}
        }
      ]
    },
    {
      "cell_type": "markdown",
      "source": [
        "# 合併兩個csv 相同列名的數據(Optional)"
      ],
      "metadata": {
        "id": "V-c3Y-WMzheK"
      }
    },
    {
      "cell_type": "code",
      "source": [
        "def merge_files(file1_path, file2_path, output_file_path, file_type='csv', common_columns=None):\n",
        "    \"\"\"\n",
        "    合併兩個文件並保存結果\n",
        "\n",
        "    參數:\n",
        "    file1_path (str): 第一個文件的路徑\n",
        "    file2_path (str): 第二個文件的路徑\n",
        "    output_file_path (str): 輸出的文件路徑\n",
        "    file_type (str): 文件類型，'csv' 或 'excel'\n",
        "    common_columns (list or str): 用於合併的共同列名或列名列表，默認為 None\n",
        "\n",
        "    返回:\n",
        "    None\n",
        "    \"\"\"\n",
        "    if file_type == 'csv':\n",
        "        df1 = pd.read_csv(file1_path)\n",
        "        df2 = pd.read_csv(file2_path)\n",
        "    elif file_type == 'excel':\n",
        "        df1 = pd.read_excel(file1_path)\n",
        "        df2 = pd.read_excel(file2_path)\n",
        "    else:\n",
        "        raise ValueError(\"Unsupported file type. Please choose 'csv' or 'excel'.\")\n",
        "\n",
        "    # 合併數據框\n",
        "    if common_columns is None:\n",
        "        merged_df = pd.merge(df1, df2, on='common_column')\n",
        "    else:\n",
        "        merged_df = pd.merge(df1, df2, on=common_columns)\n",
        "\n",
        "    # 保存合併後的文件\n",
        "    if file_type == 'csv':\n",
        "        merged_df.to_csv(output_file_path, index=False)\n",
        "    elif file_type == 'excel':\n",
        "        merged_df.to_excel(output_file_path, index=False)\n",
        "\n",
        "    print(\"Merged DataFrame saved to:\", output_file_path)"
      ],
      "metadata": {
        "id": "wr5UL6Rmzjqx"
      },
      "execution_count": null,
      "outputs": []
    },
    {
      "cell_type": "code",
      "source": [
        "# 使用範例\n",
        "file1_path = 'file1.csv'  # 替換成你的文件名\n",
        "file2_path = 'file2.csv'  # 替換成你的文件名\n",
        "output_file_path = 'merged_file.csv'  # 輸出的文件名\n",
        "\n",
        "# 使用默認的 'common_column' 只合併相同的列\n",
        "merge_files(file1_path, file2_path, output_file_path, file_type='csv')\n",
        "\n",
        "# 使用用戶指定的合併列（單個列名）\n",
        "merge_files(file1_path, file2_path, output_file_path, file_type='csv', common_columns='col1')\n",
        "\n",
        "# 使用用戶指定的合併列（多個列名）\n",
        "merge_files(file1_path, file2_path, output_file_path, file_type='csv', common_columns=['col1', 'col2'])"
      ],
      "metadata": {
        "id": "3SY9nKEqBQkj"
      },
      "execution_count": null,
      "outputs": []
    },
    {
      "cell_type": "markdown",
      "source": [
        "# 轉換日期格式 (Optional)"
      ],
      "metadata": {
        "id": "w0Zv7t2B0EiW"
      }
    },
    {
      "cell_type": "code",
      "source": [
        "def process_date_column(file_path, date_column, output_file_path, file_type='csv', date_format='%Y-%m-%d'):\n",
        "    \"\"\"\n",
        "    讀取文件並處理日期列，然後保存結果\n",
        "\n",
        "    參數:\n",
        "    file_path (str): 要讀取的文件路徑\n",
        "    date_column (str): 包含日期的列名\n",
        "    output_file_path (str): 保存結果的文件路徑\n",
        "    file_type (str): 文件類型，'csv' 或 'excel'\n",
        "    date_format (str): 日期格式，默認為 '%Y-%m-%d'\n",
        "\n",
        "    返回:\n",
        "    None\n",
        "    \"\"\"\n",
        "    # 讀取文件\n",
        "    if file_type == 'csv':\n",
        "        df = pd.read_csv(file_path)\n",
        "    elif file_type == 'excel':\n",
        "        df = pd.read_excel(file_path)\n",
        "    else:\n",
        "        raise ValueError(\"Unsupported file type. Please choose 'csv' or 'excel'.\")\n",
        "\n",
        "    # 處理日期列\n",
        "    df[date_column] = pd.to_datetime(df[date_column], format=date_format)\n",
        "\n",
        "    # 保存處理後的文件\n",
        "    if file_type == 'csv':\n",
        "        df.to_csv(output_file_path, index=False)\n",
        "    elif file_type == 'excel':\n",
        "        df.to_excel(output_file_path, index=False)\n",
        "\n",
        "    print(\"Processed DataFrame saved to:\", output_file_path)"
      ],
      "metadata": {
        "id": "rKmTCk3v0G7S"
      },
      "execution_count": null,
      "outputs": []
    },
    {
      "cell_type": "code",
      "source": [
        "# 使用範例\n",
        "file_path = 'profetai01.csv'  # 替換成你的文件名\n",
        "date_column = 'Date'  # 替換成包含日期的列名\n",
        "output_file_path = 'dateconverted01.csv'  # 替換成輸出文件的路徑\n",
        "\n",
        "# 處理 CSV 文件\n",
        "process_date_column(file_path, date_column, output_file_path, file_type='csv')\n",
        "\n",
        "# 處理 Excel 文件\n",
        "# process_date_column(file_path, date_column, output_file_path, file_type='excel', date_format='%Y/%m/%d')"
      ],
      "metadata": {
        "id": "ZgZzLikmC4uH"
      },
      "execution_count": null,
      "outputs": []
    },
    {
      "cell_type": "markdown",
      "source": [
        "# 異常值處理"
      ],
      "metadata": {
        "id": "5yguMiGBrVQU"
      }
    },
    {
      "cell_type": "code",
      "source": [
        "def detect_noise_points(X, eps=0.5, min_samples=5):\n",
        "    \"\"\"\n",
        "    使用 DBSCAN 檢測噪音點並打印結果，但不做處理\n",
        "\n",
        "    參數:\n",
        "    X (DataFrame): 特徵數據\n",
        "    eps (float): DBSCAN 中的鄰域半徑參數，默認為0.5\n",
        "    min_samples (int): DBSCAN 中的最小樣本數參數，默認為5\n",
        "\n",
        "    返回:\n",
        "    DataFrame: 添加噪音點標籤的數據\n",
        "    \"\"\"\n",
        "    # 數據標準化\n",
        "    scaler = StandardScaler()\n",
        "    X_scaled = scaler.fit_transform(X)\n",
        "\n",
        "    # DBSCAN\n",
        "    db = DBSCAN(eps=eps, min_samples=min_samples)\n",
        "    labels = db.fit_predict(X_scaled)\n",
        "\n",
        "    # 新增標籤到資料中以識別雜訊點\n",
        "    X['cluster_label'] = labels\n",
        "    X['is_noise'] = X['cluster_label'] == -1\n",
        "\n",
        "    # 查看噪音點\n",
        "    print(\"Noise points:\")\n",
        "    print(X[X['is_noise']])\n",
        "\n",
        "    return X\n",
        "\n",
        "# 使用範例\n",
        "# X_with_noise_labels = detect_noise_points(X, eps=0.5, min_samples=5)\n"
      ],
      "metadata": {
        "id": "vVWNQfh_sbE5"
      },
      "execution_count": null,
      "outputs": []
    },
    {
      "cell_type": "code",
      "source": [
        "def handle_noise_points_dbscan(X, replace_noise_with_mean=True):\n",
        "    \"\"\"\n",
        "    處理噪音點，可以選擇替換或刪除噪音點\n",
        "\n",
        "    參數:\n",
        "    X (DataFrame): 含噪音點標籤的數據\n",
        "    replace_noise_with_mean (bool): 是否用平均值替換噪音點，默認為True\n",
        "\n",
        "    返回:\n",
        "    DataFrame: 經處理後的數據\n",
        "    \"\"\"\n",
        "    if 'is_noise' not in X.columns or 'cluster_label' not in X.columns:\n",
        "        raise ValueError(\"DataFrame 必須包含 'is_noise' 和 'cluster_label' 列\")\n",
        "\n",
        "    if replace_noise_with_mean:\n",
        "        # 替換雜訊點的值\n",
        "        for column in X.columns[:-2]:  # 排除最後新增的標籤列\n",
        "            mean_value = X[X['cluster_label'] != -1][column].mean()\n",
        "            X.loc[X['is_noise'], column] = mean_value\n",
        "    else:\n",
        "        # 刪除雜訊點\n",
        "        X = X[X['cluster_label'] != -1]\n",
        "\n",
        "    # 刪除輔助列\n",
        "    X_clean = X.drop(columns=['cluster_label', 'is_noise'])\n",
        "\n",
        "    # 再次查看處理後的數據\n",
        "    print(\"Cleaned data preview:\")\n",
        "    print(X_clean.head())\n",
        "\n",
        "    return X_clean\n",
        "\n",
        "# 使用範例\n",
        "# X_clean = handle_noise_points_dbscan(X_with_noise_labels, replace_noise_with_mean=True)"
      ],
      "metadata": {
        "id": "HEPKhV4hglpi"
      },
      "execution_count": null,
      "outputs": []
    },
    {
      "cell_type": "code",
      "source": [
        "def detect_outliers_zscore(X, threshold=3):\n",
        "    \"\"\"\n",
        "    使用 Z-Score 檢測異常值並打印結果\n",
        "\n",
        "    參數:\n",
        "    X (DataFrame): 特徵數據\n",
        "    threshold (float): Z-Score 的閾值，默認為3\n",
        "\n",
        "    返回:\n",
        "    DataFrame: 標記異常值的數據\n",
        "    \"\"\"\n",
        "    # 計算 Z-Score\n",
        "    z_scores = np.abs(stats.zscore(X))\n",
        "\n",
        "    # 找到異常值的位置\n",
        "    outliers = np.where(z_scores > threshold)\n",
        "\n",
        "    # 標記異常值\n",
        "    for feature, outlier_indices in zip(X.columns, outliers):\n",
        "        if outlier_indices.size > 0:\n",
        "            print(f\"Outliers in {feature} based on Z-Score:\")\n",
        "            print(X.iloc[outlier_indices][feature])\n",
        "\n",
        "    return X, z_scores\n",
        "\n",
        "# 使用範例\n",
        "# X_with_outliers, z_scores = detect_outliers_zscore(X, threshold=3)"
      ],
      "metadata": {
        "id": "ViWAkzNrg5qO"
      },
      "execution_count": null,
      "outputs": []
    },
    {
      "cell_type": "code",
      "source": [
        "def handle_outliers_zscore(X, z_scores, threshold=3, method='remove'):\n",
        "    \"\"\"\n",
        "    處理異常值，可以選擇刪除或其他方法\n",
        "\n",
        "    參數:\n",
        "    X (DataFrame): 含異常值的數據\n",
        "    z_scores (ndarray): 計算出的 Z-Score\n",
        "    threshold (float): Z-Score 的閾值，默認為3\n",
        "    method (str): 處理異常值的方法，默認為 'remove'，可以選擇 'remove' 或 'replace_with_mean'\n",
        "\n",
        "    返回:\n",
        "    DataFrame: 經處理後的數據\n",
        "    \"\"\"\n",
        "    if method == 'remove':\n",
        "        X_clean = X[(z_scores < threshold).all(axis=1)]\n",
        "    elif method == 'replace_with_mean':\n",
        "        X_clean = X.copy()\n",
        "        for feature in X.columns:\n",
        "            mean_value = X_clean[(z_scores[:, X.columns.get_loc(feature)] < threshold)][feature].mean()\n",
        "            X_clean.loc[z_scores[:, X.columns.get_loc(feature)] >= threshold, feature] = mean_value\n",
        "    else:\n",
        "        raise ValueError(\"Method must be 'remove' or 'replace_with_mean'\")\n",
        "\n",
        "    print(\"\\nData after handling outliers:\")\n",
        "    print(X_clean.describe())\n",
        "\n",
        "    return X_clean"
      ],
      "metadata": {
        "id": "_exodz46g_Lu"
      },
      "execution_count": null,
      "outputs": []
    },
    {
      "cell_type": "code",
      "source": [
        "def visualize_data_distribution(X):\n",
        "    \"\"\"\n",
        "    可視化資料分佈，檢查處理後的效果\n",
        "\n",
        "    參數:\n",
        "    X (DataFrame): 經處理後的數據\n",
        "    \"\"\"\n",
        "    plt.figure(figsize=(12, 8))\n",
        "    for i, feature in enumerate(X.columns, 1):\n",
        "        plt.subplot(2, 2, i)\n",
        "        sns.boxplot(y=X[feature])\n",
        "        plt.title(feature)\n",
        "    plt.tight_layout()\n",
        "    plt.show()\n",
        "\n",
        "# 使用範例\n",
        "# X_clean = handle_outliers_zscore(X_with_outliers, z_scores, threshold=3, method='remove')\n",
        "# visualize_data_distribution(X_clean)"
      ],
      "metadata": {
        "id": "akmoRskq-WEm"
      },
      "execution_count": null,
      "outputs": []
    },
    {
      "cell_type": "code",
      "source": [
        "def detect_outliers_tukey(df, n, features):\n",
        "    \"\"\"\n",
        "    檢測數據中的異常值，根據 Tukey 方法返回異常值的索引列表\n",
        "\n",
        "    參數:\n",
        "    df (DataFrame): 數據框\n",
        "    n (int): 超過此數量的異常值才會被認為是異常點\n",
        "    features (List[str]): 要檢測異常值的特徵列表\n",
        "\n",
        "    返回:\n",
        "    List[int]: 異常值的索引列表\n",
        "    \"\"\"\n",
        "    outlier_indices = []\n",
        "\n",
        "    # 遍歷特徵（列）\n",
        "    for col in features:\n",
        "        # 第一四分位數 (25%)\n",
        "        Q1 = np.percentile(df[col], 25)\n",
        "        # 第三四分位數 (75%)\n",
        "        Q3 = np.percentile(df[col], 75)\n",
        "        # 四分位距 (IQR)\n",
        "        IQR = Q3 - Q1\n",
        "\n",
        "        # 異常值步長\n",
        "        outlier_step = 1.5 * IQR\n",
        "\n",
        "        # 找到特徵 col 的異常值索引列表\n",
        "        outlier_list_col = df[(df[col] < Q1 - outlier_step) | (df[col] > Q3 + outlier_step)].index\n",
        "\n",
        "        # 將找到的異常值索引附加到異常值索引列表中\n",
        "        outlier_indices.extend(outlier_list_col)\n",
        "\n",
        "    # 選擇包含超過 n 個異常值的觀測值\n",
        "    outlier_indices = Counter(outlier_indices)\n",
        "    multiple_outliers = list(k for k, v in outlier_indices.items() if v > n)\n",
        "\n",
        "    return multiple_outliers\n",
        "\n",
        "# 使用範例\n",
        "# outliers = detect_outliers_tukey(df, n=2, features=['feature1', 'feature2', 'feature3'])\n",
        "# print(\"Outliers detected:\", outliers)"
      ],
      "metadata": {
        "id": "ynPtcCUuhNrL"
      },
      "execution_count": null,
      "outputs": []
    },
    {
      "cell_type": "code",
      "source": [
        "def handle_outliers_tukey(df, outlier_indices, method='remove'):\n",
        "    \"\"\"\n",
        "    處理異常值，可以選擇刪除或其他方法\n",
        "\n",
        "    參數:\n",
        "    df (DataFrame): 數據框\n",
        "    outlier_indices (List[int]): 異常值的索引列表\n",
        "    method (str): 處理異常值的方法，默認為 'remove'\n",
        "\n",
        "    返回:\n",
        "    DataFrame: 經處理後的數據框\n",
        "    \"\"\"\n",
        "    if method == 'remove':\n",
        "        df_clean = df.drop(outlier_indices)\n",
        "    elif method == 'replace_with_mean':\n",
        "        df_clean = df.copy()\n",
        "        for col in df.columns:\n",
        "            if col not in ['is_noise', 'cluster_label']:  # 排除不需要替換的列\n",
        "                mean_value = df_clean.loc[~df_clean.index.isin(outlier_indices), col].mean()\n",
        "                df_clean.loc[df_clean.index.isin(outlier_indices), col] = mean_value\n",
        "    else:\n",
        "        raise ValueError(\"Method must be 'remove' or 'replace_with_mean'\")\n",
        "\n",
        "    return df_clean\n",
        "\n",
        "# 使用範例\n",
        "# df_clean = handle_outliers_tukey(df, outliers, method='remove')\n",
        "# print(\"Data after handling outliers:\", df_clean.head())"
      ],
      "metadata": {
        "id": "5w34B5NGvCDs"
      },
      "execution_count": null,
      "outputs": []
    },
    {
      "cell_type": "markdown",
      "source": [
        "# 數據轉換"
      ],
      "metadata": {
        "id": "xEUfkkC7zSAm"
      }
    },
    {
      "cell_type": "code",
      "source": [
        "def transform_feature(df, column_name, transformations):\n",
        "     \"\"\"\n",
        "     對指定列套用不同的資料轉換。\n",
        "\n",
        "     :param df: DataFrame，包含資料。\n",
        "     :param column_name: 要轉換的列名。\n",
        "     :param transformations: 包含要套用的轉換類型，如'log', 'sqrt', 'boxcox'。\n",
        "     :return: DataFrame，包含原始和轉換後的列。\n",
        "     \"\"\"\n",
        "     # 檢查列名是否在DataFrame中\n",
        "     if column_name not in df.columns:\n",
        "         raise ValueError(f\"{column_name} does not exist in the DataFrame.\")\n",
        "\n",
        "     # 建立一個資料副本以避免修改原始數據\n",
        "     df_transformed = df.copy()\n",
        "\n",
        "     # 對每個指定的轉換類型進行處理\n",
        "     for transform in transformations:\n",
        "         if transform == 'log':\n",
        "             # 對數轉換，處理非正值\n",
        "             df_transformed[f'log_{column_name}'] = np.log(df_transformed[column_name] + 1)\n",
        "\n",
        "         elif transform == 'sqrt':\n",
        "             # 平方根轉換，處理非正值\n",
        "             df_transformed[f'sqrt_{column_name}'] = np.sqrt(df_transformed[column_name] + 1)\n",
        "\n",
        "         elif transform == 'boxcox':\n",
        "             # Box-Cox 轉換，確保所有資料為正\n",
        "             adjusted_column = df_transformed[column_name] + 1 - df_transformed[column_name].min()\n",
        "             df_transformed[f'boxcox_{column_name}'], _ = stats.boxcox(adjusted_column)\n",
        "\n",
        "         else:\n",
        "             raise ValueError(f\"Transformation '{transform}' is not supported.\")\n",
        "\n",
        "     return df_transformed\n",
        "\n",
        "# 範例使用\n",
        "'''data = pd.DataFrame({\n",
        "     'sales': np.random.gamma(2, 2, 100) - 1 # 建立一些可能包含零或負數的數據\n",
        "})'''"
      ],
      "metadata": {
        "id": "LRwFfpzvzP8T"
      },
      "execution_count": null,
      "outputs": []
    },
    {
      "cell_type": "code",
      "source": [
        "# 呼叫函數，轉換 'sales' 列\n",
        "transformed_data = transform_feature(data, 'sales', ['log', 'sqrt', 'boxcox'])\n",
        "print(transformed_data.head())"
      ],
      "metadata": {
        "colab": {
          "base_uri": "https://localhost:8080/"
        },
        "id": "aS2eBEdnE3Hb",
        "outputId": "4a9ab2f1-8fe4-4c21-e3b1-1c1c80fba2a1"
      },
      "execution_count": null,
      "outputs": [
        {
          "output_type": "stream",
          "name": "stdout",
          "text": [
            "      sales  log_sales  sqrt_sales  boxcox_sales\n",
            "0  4.246202   1.657504    2.290459      2.539093\n",
            "1  5.755906   1.910417    2.599213      3.004623\n",
            "2  1.520029   0.924270    1.587460      1.459333\n",
            "3  2.582861   1.276162    1.892845      1.930635\n",
            "4  6.471030   2.011033    2.733319      3.204654\n"
          ]
        }
      ]
    },
    {
      "cell_type": "markdown",
      "source": [
        "# 特徵選擇"
      ],
      "metadata": {
        "id": "W8ONjql8jCdZ"
      }
    },
    {
      "cell_type": "markdown",
      "source": [
        "## 卡方檢驗（Chi-squared test）"
      ],
      "metadata": {
        "id": "Lp8fIaAIjOG1"
      }
    },
    {
      "cell_type": "code",
      "source": [
        "def select_top_k_features(X, y, k=10):\n",
        "    \"\"\"\n",
        "    選擇得分最高的前K個特徵\n",
        "\n",
        "    參數:\n",
        "    X (DataFrame): 特徵數據\n",
        "    y (Series): 目標變量\n",
        "    k (int): 選擇的特徵數量\n",
        "\n",
        "    返回:\n",
        "    DataFrame: 選擇的前K個特徵\n",
        "    List: 選擇的特徵名稱\n",
        "    \"\"\"\n",
        "    chi_selector = SelectKBest(chi2, k=k)\n",
        "    X_kbest = chi_selector.fit_transform(X, y)\n",
        "    selected_features = X.columns[chi_selector.get_support()]\n",
        "\n",
        "    return X_kbest, selected_features\n",
        "\n",
        "# 使用範例\n",
        "# X_kbest, selected_features = select_top_k_features(X, y, k=10)\n",
        "# print(\"Selected features:\", selected_features)"
      ],
      "metadata": {
        "id": "qS-tpdhvjFmE"
      },
      "execution_count": null,
      "outputs": []
    },
    {
      "cell_type": "markdown",
      "source": [
        "## 方差閾值（Variance Threshold）"
      ],
      "metadata": {
        "id": "G8SsM5jMjQHN"
      }
    },
    {
      "cell_type": "code",
      "source": [
        "def select_high_variance_features(X, threshold=0.8):\n",
        "    \"\"\"\n",
        "    選擇方差高於閾值的特徵\n",
        "\n",
        "    參數:\n",
        "    X (DataFrame): 特徵數據\n",
        "    threshold (float): 方差閾值，預設為0.8\n",
        "\n",
        "    返回:\n",
        "    DataFrame: 選擇的高方差特徵\n",
        "    List: 選擇的特徵名稱\n",
        "    \"\"\"\n",
        "    thresholder = VarianceThreshold(threshold=(threshold * (1 - threshold)))\n",
        "    X_high_variance = thresholder.fit_transform(X)\n",
        "    selected_features = X.columns[thresholder.get_support()]\n",
        "\n",
        "    return X_high_variance, selected_features\n",
        "\n",
        "# 使用範例\n",
        "# X_high_variance, selected_features = select_high_variance_features(X, threshold=0.8)\n",
        "# print(\"Selected features:\", selected_features)"
      ],
      "metadata": {
        "id": "axDzp0yjjTkw"
      },
      "execution_count": null,
      "outputs": []
    },
    {
      "cell_type": "markdown",
      "source": [
        "## LASSO (Least Absolute Shrinkage and Selection Operator)"
      ],
      "metadata": {
        "id": "7oqijap2jUst"
      }
    },
    {
      "cell_type": "code",
      "source": [
        "def select_lasso_features(X, y, cv=5):\n",
        "    \"\"\"\n",
        "    使用 LassoCV 進行特徵選擇\n",
        "\n",
        "    參數:\n",
        "    X (DataFrame): 特徵數據\n",
        "    y (Series): 目標變量\n",
        "    cv (int): 交叉驗證折數，默認為5\n",
        "\n",
        "    返回:\n",
        "    DataFrame: 經 LassoCV 選擇的特徵\n",
        "    List: 選擇的特徵名稱\n",
        "    \"\"\"\n",
        "    lasso = LassoCV(cv=cv).fit(X, y)\n",
        "    model = SelectFromModel(lasso, prefit=True)\n",
        "    X_lasso = model.transform(X)\n",
        "    selected_features = X.columns[model.get_support()]\n",
        "\n",
        "    return X_lasso, selected_features\n",
        "\n",
        "# 使用範例\n",
        "# X_lasso, selected_features = select_lasso_features(X, y, cv=5)\n",
        "# print(\"Selected features:\", selected_features)"
      ],
      "metadata": {
        "id": "emrUzit4jWcZ"
      },
      "execution_count": null,
      "outputs": []
    },
    {
      "cell_type": "markdown",
      "source": [
        "# 缺失值處理"
      ],
      "metadata": {
        "id": "ox2qy3hWkwfw"
      }
    },
    {
      "cell_type": "code",
      "source": [
        "# 普通處理方法\n",
        "def handle_missing_values(data, columns, method='delete', fill_value=None):\n",
        "    \"\"\"\n",
        "    處理數據裡的缺失值。\n",
        "\n",
        "    Parameters:\n",
        "    data (DataFrame): 需要處理的DataFrame。\n",
        "    columns (list): 需要處理缺失值的列名。\n",
        "    method (str): 缺失值處理方式。可選 'fill_mean'、'fill_median'、'fill_constant'、'delete'。\n",
        "    fill_value (any): 當method為'fill_constant'時使用此值。\n",
        "    \"\"\"\n",
        "    # 遍歷每一列處理缺失值\n",
        "    for column in columns:\n",
        "        if column in data.columns:\n",
        "            if method == 'fill_mean':\n",
        "                # 用平均數方法\n",
        "                data[column].fillna(data[column].mean(), inplace=True)\n",
        "            elif method == 'fill_median':\n",
        "                # 用中位數方法\n",
        "                data[column].fillna(data[column].median(), inplace=True)\n",
        "            elif method == 'fill_constant':\n",
        "                # 用constant\n",
        "                if fill_value is not None:\n",
        "                    data[column].fillna(fill_value, inplace=True)\n",
        "                else:\n",
        "                    raise ValueError(\"fill_value cannot be None when method is 'fill_constant'.\")\n",
        "            elif method == 'delete':\n",
        "                # 删除含有缺失值的行\n",
        "                data.dropna(subset=[column], inplace=True)\n",
        "            else:\n",
        "                raise ValueError(\"Method not supported. Choose 'fill_mean', 'fill_median', 'fill_constant', or 'delete'.\")\n",
        "        else:\n",
        "            raise ValueError(f\"Column {column} does not exist in DataFrame.\")\n",
        "    return data"
      ],
      "metadata": {
        "id": "VWRDSQdAlXQk"
      },
      "execution_count": null,
      "outputs": []
    },
    {
      "cell_type": "code",
      "source": [
        "# 示範\n",
        "data = pd.DataFrame({\n",
        "    'A': [1, 2, np.nan, 4],\n",
        "    'B': [np.nan, 2, 3, 4],\n",
        "    'C': [1, 2, 3, np.nan]\n",
        "})\n",
        "\n",
        "# 用平均數\n",
        "processed_data = handle_missing_values(data, ['A', 'B'], method='fill_mean')\n",
        "print(processed_data)\n",
        "\n",
        "# 用常數\n",
        "processed_data = handle_missing_values(data, ['C'], method='fill_constant', fill_value=0)\n",
        "print(processed_data)"
      ],
      "metadata": {
        "id": "xDyK6qEmmCtH"
      },
      "execution_count": null,
      "outputs": []
    },
    {
      "cell_type": "code",
      "source": [
        "# 機器學習處理方法\n",
        "def impute_missing_values_ml_classification(data, max_iter=10):\n",
        "    \"\"\"\n",
        "    使用機器學習方法填入DataFrame中的缺失值。\n",
        "\n",
        "    參數:\n",
        "     data (DataFrame): 需要處理的Pandas DataFrame。\n",
        "     strategy (str): 使用的模型策略，目前用 'random_forest'。\n",
        "     max_iter (int): 最大迭代次數，用於迭代模型。\n",
        "\n",
        "    回傳:\n",
        "     DataFrame: 填入缺失值的DataFrame\n",
        "    \"\"\"\n",
        "    # 使用隨機森林 還有LinearRegression, KNeighborsRegressor等\n",
        "    estimator = RandomForestClassifier(n_estimators=10, random_state=0)\n",
        "\n",
        "\n",
        "    imputer = IterativeImputer(estimator=estimator, max_iter=max_iter, random_state=0)\n",
        "    # 轉換數據，填充缺失值\n",
        "    imputed_data = imputer.fit_transform(data)\n",
        "    # 將填入後的資料轉換回DataFrame\n",
        "    imputed_data_df = pd.DataFrame(imputed_data, columns=data.columns)\n",
        "    return imputed_data_df"
      ],
      "metadata": {
        "id": "sXSpboABn226"
      },
      "execution_count": null,
      "outputs": []
    },
    {
      "cell_type": "code",
      "source": [
        "# 示範\n",
        "data = pd.DataFrame({\n",
        "    'A': [1, 2, np.nan, 4],\n",
        "    'B': [np.nan, 2, 3, 4],\n",
        "    'C': [1, 2, 3, np.nan]  # 假設這是一個分類特徵\n",
        "})\n",
        "\n",
        "processed_data = impute_missing_values_ml_classification(data)\n",
        "print(processed_data)"
      ],
      "metadata": {
        "id": "7dZy_3EvoomH"
      },
      "execution_count": null,
      "outputs": []
    },
    {
      "cell_type": "code",
      "source": [
        "# 構建自動編碼器模型\n",
        "def create_autoencoder(input_dim, encoding_dim=16, learning_rate=0.001):\n",
        "    input_layer = Input(shape=(input_dim,))\n",
        "    encoded = Dense(64, activation='relu')(input_layer)\n",
        "    encoded = Dense(32, activation='relu')(encoded)\n",
        "    encoded = Dense(encoding_dim, activation='relu')(encoded)\n",
        "    decoded = Dense(32, activation='relu')(encoded)\n",
        "    decoded = Dense(64, activation='relu')(decoded)\n",
        "    decoded = Dense(input_dim, activation='sigmoid')(decoded)\n",
        "\n",
        "    autoencoder = Model(inputs=input_layer, outputs=decoded)\n",
        "    autoencoder.compile(optimizer=Adam(learning_rate=learning_rate), loss='mean_squared_error')\n",
        "\n",
        "    return autoencoder\n",
        "\n",
        "# 封裝成 KerasRegressor\n",
        "def autoencoder_model_fn(encoding_dim=16, learning_rate=0.001):\n",
        "    return create_autoencoder(input_dim=X.shape[1], encoding_dim=encoding_dim, learning_rate=learning_rate)"
      ],
      "metadata": {
        "id": "Cj1m0P63MIpZ"
      },
      "execution_count": null,
      "outputs": []
    },
    {
      "cell_type": "code",
      "source": [
        "def impute_missing_values_dl_optimized(data, columns, epochs=50, batch_size=32, n_iter=10):\n",
        "    \"\"\"\n",
        "    使用深度學習方法填入指定列中的缺失值，並使用隨機搜索調整參數。\n",
        "\n",
        "    參數:\n",
        "     data (DataFrame): 需要處理的Pandas DataFrame。\n",
        "     columns (list): 包含要填補缺失值的列名。\n",
        "     epochs (int): 訓練的迭代次數。\n",
        "     batch_size (int): 每次訓練的批次大小。\n",
        "     n_iter (int): 隨機搜索的迭代次數。\n",
        "\n",
        "    回傳:\n",
        "     DataFrame: 填入缺失值的DataFrame\n",
        "    \"\"\"\n",
        "    # 檢查列名是否存在於DataFrame中\n",
        "    missing_cols = [col for col in columns if col not in data.columns]\n",
        "    if missing_cols:\n",
        "        raise ValueError(f\"Columns {missing_cols} not in DataFrame.\")\n",
        "\n",
        "    # 只處理指定的列\n",
        "    data_to_impute = data[columns]\n",
        "\n",
        "    # 將數據標準化\n",
        "    scaler = StandardScaler()\n",
        "    data_scaled = scaler.fit_transform(data_to_impute)\n",
        "\n",
        "    # 定義 KerasRegressor\n",
        "    autoencoder = KerasRegressor(build_fn=autoencoder_model_fn, epochs=epochs, batch_size=batch_size, verbose=0)\n",
        "\n",
        "    # 定義隨機搜索參數空間\n",
        "    param_distributions = {\n",
        "        'encoding_dim': randint(8, 64),\n",
        "        'learning_rate': [0.1, 0.01, 0.001, 0.0001]\n",
        "    }\n",
        "\n",
        "    # 使用隨機搜索調整參數\n",
        "    random_search = RandomizedSearchCV(estimator=autoencoder, param_distributions=param_distributions, n_iter=n_iter, cv=3, verbose=2, random_state=42, n_jobs=-1)\n",
        "    random_search.fit(data_scaled, data_scaled)\n",
        "\n",
        "    # 獲取最佳參數並打印\n",
        "    best_params = random_search.best_params_\n",
        "    print(f\"Best parameters found: {best_params}\")\n",
        "\n",
        "    # 使用最佳參數訓練自動編碼器模型\n",
        "    best_autoencoder = create_autoencoder(input_dim=data_scaled.shape[1], encoding_dim=best_params['encoding_dim'], learning_rate=best_params['learning_rate'])\n",
        "    best_autoencoder.fit(data_scaled, data_scaled, epochs=epochs, batch_size=batch_size, shuffle=True, validation_split=0.2)\n",
        "\n",
        "    # 使用訓練好的模型來填補缺失值\n",
        "    data_imputed = best_autoencoder.predict(data_scaled)\n",
        "    data_imputed = scaler.inverse_transform(data_imputed)\n",
        "\n",
        "    # 將填入後的資料轉換回DataFrame\n",
        "    imputed_data_df = data.copy()\n",
        "    imputed_data_df[columns] = data_imputed\n",
        "    return imputed_data_df"
      ],
      "metadata": {
        "id": "VzdRhkqWKutc"
      },
      "execution_count": null,
      "outputs": []
    },
    {
      "cell_type": "code",
      "source": [
        "# 示例用法\n",
        "# 假設 data 是已載入的 DataFrame，並且包含缺失值\n",
        "# data = pd.read_csv('your_data.csv')\n",
        "columns_to_impute = ['column1', 'column2', 'column3']  # 替換為你要處理的列名\n",
        "imputed_data_df = impute_missing_values_dl_optimized(data, columns_to_impute, epochs=50, batch_size=32, n_iter=10)\n",
        "print(imputed_data_df)"
      ],
      "metadata": {
        "id": "AA8m82jvLAjk"
      },
      "execution_count": null,
      "outputs": []
    },
    {
      "cell_type": "markdown",
      "source": [
        "# 類別欄位轉換"
      ],
      "metadata": {
        "id": "OiSKou10NiTY"
      }
    },
    {
      "cell_type": "code",
      "source": [
        "def convert_to_dummies(df, columns, prefix_dict=None):\n",
        "     \"\"\"\n",
        "     將指定列轉換為虛擬（指示器）變數。\n",
        "\n",
        "     :param df: DataFrame，包含資料。\n",
        "     :param columns: list，包含需要轉換為虛擬變數的列名。\n",
        "     :param prefix_dict: dict，可選，列名與對應前綴的字典。\n",
        "     :return: DataFrame，包含轉換後的虛擬變數。\n",
        "     \"\"\"\n",
        "     for column in columns:\n",
        "         if prefix_dict and column in prefix_dict:\n",
        "             df = pd.get_dummies(df, columns=[column], prefix=prefix_dict[column])\n",
        "         else:\n",
        "             df = pd.get_dummies(df, columns=[column])\n",
        "     return df\n",
        "\n",
        "# 範例使用\n",
        "dataset = pd.DataFrame({\n",
        "     'Title': ['Mr', 'Mrs', 'Miss', 'Mr', 'Mrs'],\n",
        "     'Embarked': ['S', 'C', 'C', 'S', 'S'],\n",
        "     'color': ['red', 'blue', 'green', 'blue', 'blue']\n",
        "})"
      ],
      "metadata": {
        "id": "NgtTD-SENnoX"
      },
      "execution_count": null,
      "outputs": []
    },
    {
      "cell_type": "code",
      "source": [
        "dataset_transformed = convert_to_dummies(dataset, ['Title', 'Embarked', 'color'], prefix_dict={'Embarked': 'Em'})\n",
        "print(dataset_transformed)"
      ],
      "metadata": {
        "colab": {
          "base_uri": "https://localhost:8080/"
        },
        "id": "F9_1qBRsNq4R",
        "outputId": "56bd1b16-d5a7-4d74-96d3-9a61c2bda5bf"
      },
      "execution_count": null,
      "outputs": [
        {
          "output_type": "stream",
          "name": "stdout",
          "text": [
            "   Title_Miss  Title_Mr  Title_Mrs   Em_C   Em_S  color_blue  color_green  \\\n",
            "0       False      True      False  False   True       False        False   \n",
            "1       False     False       True   True  False        True        False   \n",
            "2        True     False      False   True  False       False         True   \n",
            "3       False      True      False  False   True        True        False   \n",
            "4       False     False       True  False   True        True        False   \n",
            "\n",
            "   color_red  \n",
            "0       True  \n",
            "1      False  \n",
            "2      False  \n",
            "3      False  \n",
            "4      False  \n"
          ]
        }
      ]
    },
    {
      "cell_type": "markdown",
      "source": [
        "# 數據預處理"
      ],
      "metadata": {
        "id": "0-aL8KMnwsoq"
      }
    },
    {
      "cell_type": "code",
      "source": [
        "def standardize_data(df):\n",
        "    \"\"\"\n",
        "    標準化數據\n",
        "\n",
        "    參數:\n",
        "    df (DataFrame): 數據框\n",
        "\n",
        "    返回:\n",
        "    DataFrame: 標準化後的數據框\n",
        "\n",
        "    使用情況:\n",
        "    將特徵標準化，使其具有均值為0和標準偏差為1。這對於許多機器學習算法，如 SVM、KNN、邏輯回歸等都很重要。\n",
        "    \"\"\"\n",
        "    scaler = StandardScaler()\n",
        "    df_standardized = pd.DataFrame(scaler.fit_transform(df), columns=df.columns)\n",
        "    return df_standardized"
      ],
      "metadata": {
        "id": "pK_0_3A5_3f6"
      },
      "execution_count": null,
      "outputs": []
    },
    {
      "cell_type": "code",
      "source": [
        "def scale_data_maxabs(df):\n",
        "    \"\"\"\n",
        "    絕對值最大標準化數據\n",
        "\n",
        "    參數:\n",
        "    df (DataFrame): 數據框\n",
        "\n",
        "    返回:\n",
        "    DataFrame: 絕對值最大標準化後的數據框\n",
        "\n",
        "    使用情況:\n",
        "    將數據除以該特徵絕對值的最大值來縮放每個特徵至 [-1, 1] 範圍內。這對於不假設數據中心在0點的數據集有用，如稀疏數據集。\n",
        "    \"\"\"\n",
        "    scaler = MaxAbsScaler()\n",
        "    df_maxabs_scaled = pd.DataFrame(scaler.fit_transform(df), columns=df.columns)\n",
        "    return df_maxabs_scaled"
      ],
      "metadata": {
        "id": "mYqWMkpz_6hZ"
      },
      "execution_count": null,
      "outputs": []
    },
    {
      "cell_type": "code",
      "source": [
        "def scale_data_minmax(df):\n",
        "    \"\"\"\n",
        "    最小-最大標準化數據\n",
        "\n",
        "    參數:\n",
        "    df (DataFrame): 數據框\n",
        "\n",
        "    返回:\n",
        "    DataFrame: 最小-最大標準化後的數據框\n",
        "\n",
        "    使用情況:\n",
        "    將特徵縮放到給定的最小值與最大值之間，通常是0和1之間。這有助於將不同範圍的數據統一到相同的尺度，對於那些對特徵的縮放比例敏感的算法很有效。\n",
        "    \"\"\"\n",
        "    scaler = MinMaxScaler()\n",
        "    df_minmax_scaled = pd.DataFrame(scaler.fit_transform(df), columns=df.columns)\n",
        "    return df_minmax_scaled"
      ],
      "metadata": {
        "id": "r8EyDa_u_8j0"
      },
      "execution_count": null,
      "outputs": []
    },
    {
      "cell_type": "code",
      "source": [
        "def binarize_data(df, threshold=0.5):\n",
        "    \"\"\"\n",
        "    二值化數據\n",
        "\n",
        "    參數:\n",
        "    df (DataFrame): 數據框\n",
        "    threshold (float): 閾值\n",
        "\n",
        "    返回:\n",
        "    DataFrame: 二值化後的數據框\n",
        "\n",
        "    使用情況:\n",
        "    根據閾值將數據二值化，將特徵數據轉變為布爾值（0或1）。這可以用在預先假定某個閾值以上或以下就是不同類別的情況，如某些特定的特徵工程需要或模型預處理。\n",
        "    \"\"\"\n",
        "    binarizer = Binarizer(threshold=threshold)\n",
        "    df_binarized = pd.DataFrame(binarizer.fit_transform(df), columns=df.columns)\n",
        "    return df_binarized"
      ],
      "metadata": {
        "id": "5SN14r_M_-uV"
      },
      "execution_count": null,
      "outputs": []
    },
    {
      "cell_type": "code",
      "source": [
        "def log_transform_data(df):\n",
        "    \"\"\"\n",
        "    log1p 轉換數據\n",
        "\n",
        "    參數:\n",
        "    df (DataFrame): 數據框\n",
        "\n",
        "    返回:\n",
        "    DataFrame: log1p 轉換後的數據框\n",
        "\n",
        "    使用情況:\n",
        "    將特徵的對數轉換應用到數據上，計算公式為 log(1+x)。這樣的轉換對於右偏（Skewed）的數據集很有用，因為它有助於減少數據的偏度，使其更接近正態分佈。\n",
        "    \"\"\"\n",
        "    log_transformer = FunctionTransformer(np.log1p, validate=True)\n",
        "    df_log_transformed = pd.DataFrame(log_transformer.fit_transform(df), columns=df.columns)\n",
        "    return df_log_transformed"
      ],
      "metadata": {
        "id": "CHE0RkvwAAGs"
      },
      "execution_count": null,
      "outputs": []
    },
    {
      "cell_type": "code",
      "source": [
        "# 示例用法\n",
        "np.random.seed(42)\n",
        "data = pd.DataFrame({\n",
        "    'A': np.random.normal(0, 1, 100),\n",
        "    'B': np.random.normal(10, 5, 100),\n",
        "    'C': np.random.exponential(1, 100),\n",
        "    'D': np.random.randint(100, size=100)\n",
        "})\n",
        "data.iloc[0:10, 1] = np.nan\n",
        "data.iloc[5:15, 2] = np.nan\n",
        "\n",
        "# 填充缺失值\n",
        "data_filled = handle_missing_values(data, columns, method='mean', fill_value=None)\n",
        "\n",
        "# 標準化數據\n",
        "data_standardized = standardize_data(data_filled[['A', 'B']])\n",
        "\n",
        "# 絕對值最大標準化數據\n",
        "data_maxabs_scaled = scale_data_maxabs(data_filled[['D']])\n",
        "\n",
        "# 最小-最大標準化數據\n",
        "data_minmax_scaled = scale_data_minmax(data_filled[['C']])\n",
        "\n",
        "# 二值化數據\n",
        "data_binarized = binarize_data(data_filled[['D']], threshold=0.5)\n",
        "\n",
        "# log1p 轉換數據\n",
        "data_log_transformed = log_transform_data(data_filled[['C']])\n",
        "\n",
        "# 查看結果\n",
        "print(\"Data after filling missing values:\\n\", data_filled.head())\n",
        "print(\"\\nData after standardization:\\n\", data_standardized.head())\n",
        "print(\"\\nData after MaxAbs scaling:\\n\", data_maxabs_scaled.head())\n",
        "print(\"\\nData after MinMax scaling:\\n\", data_minmax_scaled.head())\n",
        "print(\"\\nData after binarization:\\n\", data_binarized.head())\n",
        "print(\"\\nData after log1p transformation:\\n\", data_log_transformed.head())"
      ],
      "metadata": {
        "id": "nT57QRmyAFDH"
      },
      "execution_count": null,
      "outputs": []
    },
    {
      "cell_type": "markdown",
      "source": [
        "# GridSearchCV 找最佳parameters"
      ],
      "metadata": {
        "id": "nGXluLhe2_T5"
      }
    },
    {
      "cell_type": "markdown",
      "source": [
        "## 分類"
      ],
      "metadata": {
        "id": "Hbm72w8vyHzh"
      }
    },
    {
      "cell_type": "code",
      "source": [
        "X, y = load_iris(return_X_y=True)"
      ],
      "metadata": {
        "id": "6UnyMzMi5L_d"
      },
      "execution_count": null,
      "outputs": []
    },
    {
      "cell_type": "code",
      "source": [
        "kfold = StratifiedKFold(n_splits=5, shuffle=True, random_state=42)"
      ],
      "metadata": {
        "id": "AkK9x7x0cuuh"
      },
      "execution_count": null,
      "outputs": []
    },
    {
      "cell_type": "code",
      "source": [
        "default_models = {\n",
        "    'LinearSVM': SVC(kernel='linear', probability=True),\n",
        "    'LogisticRegression': LogisticRegression(max_iter=200)\n",
        "}\n",
        "default_scores = {}\n",
        "for name, model in default_models.items():\n",
        "    scores = cross_val_score(model, X, y, cv=kfold, scoring='accuracy')\n",
        "    default_scores[name] = np.mean(scores)\n",
        "    print(f\"{name} with default parameters score: {default_scores[name]:.4f}\")"
      ],
      "metadata": {
        "colab": {
          "base_uri": "https://localhost:8080/"
        },
        "id": "7e8HGolecV37",
        "outputId": "1631ee13-a7e7-413b-c26e-273bf54ce553"
      },
      "execution_count": null,
      "outputs": [
        {
          "output_type": "stream",
          "name": "stdout",
          "text": [
            "LinearSVM with default parameters score: 0.9867\n",
            "LogisticRegression with default parameters score: 0.9667\n"
          ]
        }
      ]
    },
    {
      "cell_type": "code",
      "source": [
        "models_params = {\n",
        "    'ExtraTrees': {\n",
        "        'model': ExtraTreesClassifier(random_state=42),\n",
        "        'params': {\n",
        "            'max_features': [0.5, 0.7, 1.0],\n",
        "            'n_estimators': [50, 100, 300],\n",
        "            'max_depth': [None, 10, 50, 100],\n",
        "            'max_leaf_nodes': [None, 50, 100, 200],\n",
        "            'min_samples_split': [2, 10, 20],\n",
        "            'min_samples_leaf': [1, 5, 10]\n",
        "        }\n",
        "    },\n",
        "    'NuSVC': {\n",
        "        'model': NuSVC(probability=True),\n",
        "        'params': {\n",
        "            'kernel': ['linear', 'poly', 'rbf', 'sigmoid'],\n",
        "            'gamma': ['auto', 0.001, 0.01, 0.1, 1],\n",
        "            'nu': [0.1, 0.5, 0.9],\n",
        "            'max_iter': [-1, 1000, 10000]\n",
        "        }\n",
        "    },\n",
        "    'SVC': {\n",
        "        'model': SVC(probability=True),\n",
        "        'params': {\n",
        "            'C': [0.1, 1, 10, 100],\n",
        "            'kernel': ['linear', 'poly', 'rbf', 'sigmoid'],\n",
        "            'gamma': ['auto', 0.001, 0.01, 0.1, 1],\n",
        "            'max_iter': [-1, 1000, 10000]\n",
        "        }\n",
        "    },\n",
        "    'GradientBoosting': {\n",
        "        'model': GradientBoostingClassifier(),\n",
        "        'params': {\n",
        "            'n_estimators': [50, 100, 300],\n",
        "            'learning_rate': [0.01, 0.1, 0.5]\n",
        "        }\n",
        "    },\n",
        "    'KNeighbors': {\n",
        "        'model': KNeighborsClassifier(),\n",
        "        'params': {\n",
        "            'n_neighbors': [3, 5, 10],\n",
        "            'weights': ['uniform', 'distance'],\n",
        "            'metric': ['euclidean', 'manhattan', 'minkowski'],\n",
        "            'p': [1, 2],  # 1: Manhattan distance, 2: Euclidean distance\n",
        "            'leaf_size': [10, 30, 50]\n",
        "        }\n",
        "    },\n",
        "    'XGBoost': {\n",
        "        'model': XGBClassifier(),\n",
        "        'params': {\n",
        "            'gamma': [0, 0.1, 0.5],\n",
        "            'n_estimators': [50, 100, 300],\n",
        "            'learning_rate': [0.01, 0.1, 0.5],\n",
        "            'max_depth': [3, 5, 10],\n",
        "            'subsample': [0.5, 0.9, 1.0]\n",
        "        }\n",
        "    },\n",
        "    'Ridge': {\n",
        "        'model': RidgeClassifier(),\n",
        "        'params': {\n",
        "            'alpha': [0.1, 1, 10],\n",
        "            'max_iter': [1000, 10000]\n",
        "        }\n",
        "    },\n",
        "    'RandomForest': {\n",
        "        'model': RandomForestClassifier(random_state=42),\n",
        "        'params': {\n",
        "            'max_features': [0.5, 0.7, 1.0],\n",
        "            'n_estimators': [50, 100, 300],\n",
        "            'max_depth': [None, 10, 50, 100],\n",
        "            'max_leaf_nodes': [None, 50, 100, 200],\n",
        "            'min_samples_split': [2, 10, 20],\n",
        "            'min_samples_leaf': [1, 5, 10]\n",
        "        }\n",
        "    },\n",
        "    'Bagging': {\n",
        "        'model': BaggingClassifier(random_state=42),\n",
        "        'params': {\n",
        "            'n_estimators': [10, 50, 100],\n",
        "            'max_samples': [0.5, 0.7, 1.0],  # 比例\n",
        "            'max_features': [0.5, 0.7, 1.0],  # 比例\n",
        "            'bootstrap': [True, False],\n",
        "            'bootstrap_features': [True, False]\n",
        "        }\n",
        "    },\n",
        "    'SGD': {\n",
        "        'model': SGDClassifier(random_state=42),\n",
        "        'params': {\n",
        "            'alpha': [0.0001, 0.001, 0.01],\n",
        "            'loss': ['hinge', 'log', 'modified_huber', 'squared_hinge', 'perceptron'],\n",
        "            'penalty': ['l1', 'l2', 'elasticnet']\n",
        "        }\n",
        "    },\n",
        "    'DecisionTree': {\n",
        "        'model': DecisionTreeClassifier(random_state=42),\n",
        "        'params': {\n",
        "            'max_depth': [None, 10, 50, 100],\n",
        "            'max_leaf_nodes': [None, 50, 100, 200],\n",
        "            'min_samples_split': [2, 10, 20],\n",
        "            'min_samples_leaf': [1, 5, 10]\n",
        "        }\n",
        "    }\n",
        "}\n",
        "\n",
        "best_models = {}\n",
        "for name, mp in models_params.items():\n",
        "    print(f\"Running GridSearchCV for {name}.\")\n",
        "    grid_search = GridSearchCV(estimator=mp['model'], param_grid=mp['params'], cv=kfold, scoring='accuracy', verbose=1, n_jobs=-1)\n",
        "    grid_search.fit(X, y)\n",
        "    best_models[name] = (grid_search.best_estimator_, grid_search.best_score_, grid_search.best_params_)\n",
        "    print(f\"Best parameters for {name}: {grid_search.best_params_}\")\n",
        "    print(f\"Best score for {name}: {grid_search.best_score_:.4f}\")\n",
        "    print('-'*30)\n",
        "\n",
        "\n",
        "for model_name, (model, score, params) in best_models.items():\n",
        "    print(f\"{model_name} best score: {score:.4f}\")\n",
        "    print(f\"{model_name} best parameters: {params}\")\n"
      ],
      "metadata": {
        "id": "1JzWOdVo5dVl"
      },
      "execution_count": null,
      "outputs": []
    },
    {
      "cell_type": "code",
      "source": [
        "print(\"Comparison of default parameters models and optimized models:\")\n",
        "for name, score in default_scores.items():\n",
        "    print(f\"{name} default score: {score:.4f}\")\n",
        "\n",
        "for model_name, (model, score, params) in best_models.items():\n",
        "    print(f\"{model_name} optimized score: {score:.4f} with params: {params}\")"
      ],
      "metadata": {
        "id": "sTzNJ0cwcfKK"
      },
      "execution_count": null,
      "outputs": []
    },
    {
      "cell_type": "markdown",
      "source": [
        "## 回歸"
      ],
      "metadata": {
        "id": "TNoRWcoKyLbl"
      }
    },
    {
      "cell_type": "code",
      "source": [
        "# Load Data\n",
        "X, y = load_diabetes(return_X_y=True)\n",
        "X_train, X_test, y_train, y_test = train_test_split(X, y, test_size=0.2, random_state=42)"
      ],
      "metadata": {
        "id": "lJirQfCR4g_x"
      },
      "execution_count": null,
      "outputs": []
    },
    {
      "cell_type": "code",
      "source": [
        "kfold = StratifiedKFold(n_splits=5, shuffle=True, random_state=42)"
      ],
      "metadata": {
        "id": "iDln7re8596z"
      },
      "execution_count": null,
      "outputs": []
    },
    {
      "cell_type": "code",
      "source": [
        "default_models = {\n",
        "    \"Orthogonal Matching Pursuit\": OrthogonalMatchingPursuit(),\n",
        "    \"Automatic Relevance Determination\": ARDRegression(),\n",
        "    \"Bayesian Ridge\": BayesianRidge()\n",
        "}\n",
        "for name, model in default_models.items():\n",
        "    model.fit(X_train, y_train)  # 訓練模型\n",
        "    scores = cross_val_score(model, X_train, y_train, cv=5, scoring='neg_mean_squared_error')  # 交叉驗證\n",
        "    print(f\"{name} Mean Cross-Validation MSE: {np.mean(scores):.2f}\")\n",
        "\n",
        "    # 對測試集進行預測並計算 MSE\n",
        "    y_pred = model.predict(X_test)\n",
        "    mse = mean_squared_error(y_test, y_pred)\n",
        "    print(f\"{name} Test MSE: {mse:.2f}\")\n",
        "    print(\"-\" * 30)"
      ],
      "metadata": {
        "colab": {
          "base_uri": "https://localhost:8080/"
        },
        "id": "GY-z5EBPqCZW",
        "outputId": "19654300-b879-4240-b8ad-28e55c78d13a"
      },
      "execution_count": null,
      "outputs": [
        {
          "output_type": "stream",
          "name": "stdout",
          "text": [
            "Orthogonal Matching Pursuit Mean Cross-Validation MSE: -3928.30\n",
            "Orthogonal Matching Pursuit Test MSE: 4061.83\n",
            "------------------------------\n",
            "Automatic Relevance Determination Mean Cross-Validation MSE: -3115.32\n",
            "Automatic Relevance Determination Test MSE: 2823.74\n",
            "------------------------------\n",
            "Bayesian Ridge Mean Cross-Validation MSE: -3128.39\n",
            "Bayesian Ridge Test MSE: 2871.76\n",
            "------------------------------\n"
          ]
        }
      ]
    },
    {
      "cell_type": "code",
      "source": [
        "# Models & parameters\n",
        "models_params = {\n",
        "    'AdaBoostRegressor': {\n",
        "        'model': AdaBoostRegressor(random_state=42),\n",
        "        'params': {\n",
        "            'n_estimators': [50, 100, 300],\n",
        "            'learning_rate': [0.01, 0.1, 0.5]\n",
        "        }\n",
        "    },\n",
        "    'Ridge': {\n",
        "        'model': Ridge(),\n",
        "        'params': {\n",
        "            'alpha': [0.1, 1, 10]\n",
        "        }\n",
        "    },\n",
        "    'ElasticNet': {\n",
        "        'model': ElasticNet(random_state=42),\n",
        "        'params': {\n",
        "            'alpha': [0.1, 1, 10],\n",
        "            'l1_ratio': [0.1, 0.5, 0.9]\n",
        "        }\n",
        "    },\n",
        "    'GradientBoostingRegressor': {\n",
        "        'model': GradientBoostingRegressor(random_state=42),\n",
        "        'params': {\n",
        "            'n_estimators': [100, 200, 300],\n",
        "            'learning_rate': [0.01, 0.1, 0.5],\n",
        "            'max_depth': [3, 5, 10]\n",
        "        }\n",
        "    },\n",
        "    'RandomForestRegressor': {\n",
        "        'model': RandomForestRegressor(random_state=42),\n",
        "        'params': {\n",
        "            'n_estimators': [100, 200, 300],\n",
        "            'max_depth': [None, 10, 20],\n",
        "            'min_samples_split': [2, 5, 10],\n",
        "            'min_samples_leaf': [1, 2, 4]\n",
        "        }\n",
        "    },\n",
        "    'BaggingRegressor': {\n",
        "        'model': BaggingRegressor(random_state=42),\n",
        "        'params': {\n",
        "            'n_estimators': [10, 50, 100],\n",
        "            'max_samples': [0.5, 1.0],\n",
        "            'max_features': [0.5, 1.0],\n",
        "            'bootstrap': [True, False],\n",
        "            'bootstrap_features': [True, False]\n",
        "        }\n",
        "    },\n",
        "    'ExtraTreesRegressor': {\n",
        "        'model': ExtraTreesRegressor(random_state=42),\n",
        "        'params': {\n",
        "            'n_estimators': [100, 200, 300],\n",
        "            'max_depth': [None, 10, 20],\n",
        "            'min_samples_split': [2, 5, 10],\n",
        "            'min_samples_leaf': [1, 2, 4]\n",
        "        }\n",
        "    },\n",
        "    'NuSVR': {\n",
        "        'model': NuSVR(),\n",
        "        'params': {\n",
        "            'nu': [0.1, 0.5, 0.9],\n",
        "            'C': [0.1, 1, 10],\n",
        "            'gamma': ['auto', 0.01, 0.1]\n",
        "        }\n",
        "    },\n",
        "    'SVR': {\n",
        "        'model': SVR(),\n",
        "        'params': {\n",
        "            'C': [0.1, 1, 10],\n",
        "            'kernel': ['linear', 'poly', 'rbf'],\n",
        "            'gamma': ['auto', 0.01, 0.1]\n",
        "        }\n",
        "    },\n",
        "    'DecisionTreeRegressor': {\n",
        "        'model': DecisionTreeRegressor(random_state=42),\n",
        "        'params': {\n",
        "            'max_depth': [None, 10, 50],\n",
        "            'min_samples_split': [2, 10, 20],\n",
        "            'min_samples_leaf': [1, 5, 10]\n",
        "        }\n",
        "    },\n",
        "    'KNeighborsRegressor': {\n",
        "        'model': KNeighborsRegressor(),\n",
        "        'params': {\n",
        "            'n_neighbors': [3, 5, 10],\n",
        "            'weights': ['uniform', 'distance'],\n",
        "            'metric': ['euclidean', 'manhattan', 'minkowski']\n",
        "        }\n",
        "    },\n",
        "    'XGBoostRegressor': {\n",
        "        'model': XGBRegressor(),\n",
        "        'params': {\n",
        "            'n_estimators': [50, 100, 300],\n",
        "            'learning_rate': [0.01, 0.1, 0.5],\n",
        "            'max_depth': [3, 5, 10]\n",
        "        }\n",
        "    },\n",
        "    'HuberRegressor': {\n",
        "        'model': HuberRegressor(),\n",
        "        'params': {\n",
        "            'epsilon': [1.35, 1.5, 1.75],\n",
        "            'alpha': [0.0001, 0.001, 0.01]\n",
        "        }\n",
        "    },\n",
        "    'Lars': {\n",
        "        'model': Lars(),\n",
        "        'params': {\n",
        "            'n_nonzero_coefs': [1, np.inf]  # Lars specific parameter\n",
        "        }\n",
        "    },\n",
        "    'TheilSenRegressor': {\n",
        "        'model': TheilSenRegressor(random_state=42),\n",
        "        'params': {\n",
        "            'max_subpopulation': [10000, 20000]\n",
        "        }\n",
        "    },\n",
        "    'SGDRegressor': {\n",
        "        'model': SGDRegressor(random_state=42),\n",
        "        'params': {\n",
        "            'alpha': [0.0001, 0.001, 0.01],\n",
        "            'loss': ['squared_loss', 'huber', 'epsilon_insensitive', 'squared_epsilon_insensitive'],\n",
        "            'penalty': ['l1', 'l2', 'elasticnet']\n",
        "        }\n",
        "    },\n",
        "    'LinearSVR': {\n",
        "        'model': LinearSVR(),\n",
        "        'params': {\n",
        "            'C': [0.1, 1, 10],\n",
        "            'max_iter': [1000, 10000],\n",
        "            'loss': ['epsilon_insensitive', 'squared_epsilon_insensitive']\n",
        "        }\n",
        "    },\n",
        "    'Lasso': {\n",
        "        'model': Lasso(),\n",
        "        'params': {\n",
        "            'alpha': [0.0001, 0.001, 0.01],\n",
        "            'max_iter': [1000, 10000],\n",
        "        }\n",
        "    },\n",
        "}\n",
        "\n",
        "# GridSearchCV\n",
        "best_models = {}\n",
        "for name, mp in models_params.items():\n",
        "    print(f\"Running GridSearchCV for {name}.\")\n",
        "    grid_search = GridSearchCV(estimator=mp['model'], param_grid=mp['params'], cv=kfold, scoring='neg_mean_squared_error', verbose=1, n_jobs=-1)\n",
        "    grid_search.fit(X_train, y_train)\n",
        "    best_models[name] = (grid_search.best_estimator_, -grid_search.best_score_, grid_search.best_params_)\n",
        "    print(f\"Best parameters for {name}: {grid_search.best_params_}\")\n",
        "    print(f\"Best MSE for {name}: {-grid_search.best_score_:.4f}\")\n",
        "    print('-'*30)\n",
        "\n",
        "# 測試集上評估\n",
        "for model_name, (model, mse, params) in best_models.items():\n",
        "    y_pred = model.predict(X_test)\n",
        "    mse_test = mean_squared_error(y_test, y_pred)\n",
        "    print(f\"{model_name} Test MSE: {mse_test:.4f}\")"
      ],
      "metadata": {
        "colab": {
          "base_uri": "https://localhost:8080/"
        },
        "id": "mAMwEwyT4dOu",
        "outputId": "81a3f709-079b-466f-c453-5058b7772324"
      },
      "execution_count": null,
      "outputs": [
        {
          "output_type": "stream",
          "name": "stdout",
          "text": [
            "Running GridSearchCV for AdaBoostRegressor.\n",
            "Fitting 5 folds for each of 9 candidates, totalling 45 fits\n"
          ]
        },
        {
          "output_type": "stream",
          "name": "stderr",
          "text": [
            "/usr/local/lib/python3.10/dist-packages/sklearn/model_selection/_split.py:700: UserWarning: The least populated class in y has only 1 members, which is less than n_splits=5.\n",
            "  warnings.warn(\n"
          ]
        },
        {
          "output_type": "stream",
          "name": "stdout",
          "text": [
            "Best parameters for AdaBoostRegressor: {'learning_rate': 0.01, 'n_estimators': 300}\n",
            "Best MSE for AdaBoostRegressor: 3350.4610\n",
            "------------------------------\n",
            "Running GridSearchCV for Ridge.\n",
            "Fitting 5 folds for each of 3 candidates, totalling 15 fits\n",
            "Best parameters for Ridge: {'alpha': 0.1}\n",
            "Best MSE for Ridge: 3074.8292\n",
            "------------------------------\n",
            "Running GridSearchCV for ElasticNet.\n",
            "Fitting 5 folds for each of 9 candidates, totalling 45 fits\n",
            "Best parameters for ElasticNet: {'alpha': 0.1, 'l1_ratio': 0.9}\n",
            "Best MSE for ElasticNet: 4410.2444\n",
            "------------------------------\n",
            "Running GridSearchCV for GradientBoostingRegressor.\n",
            "Fitting 5 folds for each of 27 candidates, totalling 135 fits\n"
          ]
        },
        {
          "output_type": "stream",
          "name": "stderr",
          "text": [
            "/usr/local/lib/python3.10/dist-packages/sklearn/model_selection/_split.py:700: UserWarning: The least populated class in y has only 1 members, which is less than n_splits=5.\n",
            "  warnings.warn(\n",
            "/usr/local/lib/python3.10/dist-packages/sklearn/model_selection/_split.py:700: UserWarning: The least populated class in y has only 1 members, which is less than n_splits=5.\n",
            "  warnings.warn(\n",
            "/usr/local/lib/python3.10/dist-packages/sklearn/model_selection/_split.py:700: UserWarning: The least populated class in y has only 1 members, which is less than n_splits=5.\n",
            "  warnings.warn(\n"
          ]
        },
        {
          "output_type": "stream",
          "name": "stdout",
          "text": [
            "Best parameters for GradientBoostingRegressor: {'learning_rate': 0.01, 'max_depth': 3, 'n_estimators': 300}\n",
            "Best MSE for GradientBoostingRegressor: 3440.4339\n",
            "------------------------------\n",
            "Running GridSearchCV for RandomForestRegressor.\n",
            "Fitting 5 folds for each of 81 candidates, totalling 405 fits\n"
          ]
        },
        {
          "output_type": "stream",
          "name": "stderr",
          "text": [
            "/usr/local/lib/python3.10/dist-packages/sklearn/model_selection/_split.py:700: UserWarning: The least populated class in y has only 1 members, which is less than n_splits=5.\n",
            "  warnings.warn(\n"
          ]
        },
        {
          "output_type": "stream",
          "name": "stdout",
          "text": [
            "Best parameters for RandomForestRegressor: {'max_depth': 10, 'min_samples_leaf': 4, 'min_samples_split': 10, 'n_estimators': 100}\n",
            "Best MSE for RandomForestRegressor: 3280.8758\n",
            "------------------------------\n",
            "Running GridSearchCV for BaggingRegressor.\n",
            "Fitting 5 folds for each of 48 candidates, totalling 240 fits\n"
          ]
        },
        {
          "output_type": "stream",
          "name": "stderr",
          "text": [
            "/usr/local/lib/python3.10/dist-packages/sklearn/model_selection/_split.py:700: UserWarning: The least populated class in y has only 1 members, which is less than n_splits=5.\n",
            "  warnings.warn(\n"
          ]
        },
        {
          "output_type": "stream",
          "name": "stdout",
          "text": [
            "Best parameters for BaggingRegressor: {'bootstrap': True, 'bootstrap_features': True, 'max_features': 1.0, 'max_samples': 0.5, 'n_estimators': 100}\n",
            "Best MSE for BaggingRegressor: 3254.7143\n",
            "------------------------------\n",
            "Running GridSearchCV for ExtraTreesRegressor.\n",
            "Fitting 5 folds for each of 81 candidates, totalling 405 fits\n"
          ]
        },
        {
          "output_type": "stream",
          "name": "stderr",
          "text": [
            "/usr/local/lib/python3.10/dist-packages/sklearn/model_selection/_split.py:700: UserWarning: The least populated class in y has only 1 members, which is less than n_splits=5.\n",
            "  warnings.warn(\n"
          ]
        },
        {
          "output_type": "stream",
          "name": "stdout",
          "text": [
            "Best parameters for ExtraTreesRegressor: {'max_depth': 10, 'min_samples_leaf': 4, 'min_samples_split': 2, 'n_estimators': 300}\n",
            "Best MSE for ExtraTreesRegressor: 3241.6765\n",
            "------------------------------\n",
            "Running GridSearchCV for NuSVR.\n",
            "Fitting 5 folds for each of 27 candidates, totalling 135 fits\n"
          ]
        },
        {
          "output_type": "stream",
          "name": "stderr",
          "text": [
            "/usr/local/lib/python3.10/dist-packages/sklearn/model_selection/_split.py:700: UserWarning: The least populated class in y has only 1 members, which is less than n_splits=5.\n",
            "  warnings.warn(\n"
          ]
        },
        {
          "output_type": "stream",
          "name": "stdout",
          "text": [
            "Best parameters for NuSVR: {'C': 10, 'gamma': 'auto', 'nu': 0.5}\n",
            "Best MSE for NuSVR: 5963.0660\n",
            "------------------------------\n",
            "Running GridSearchCV for SVR.\n",
            "Fitting 5 folds for each of 27 candidates, totalling 135 fits\n"
          ]
        },
        {
          "output_type": "stream",
          "name": "stderr",
          "text": [
            "/usr/local/lib/python3.10/dist-packages/sklearn/model_selection/_split.py:700: UserWarning: The least populated class in y has only 1 members, which is less than n_splits=5.\n",
            "  warnings.warn(\n"
          ]
        },
        {
          "output_type": "stream",
          "name": "stdout",
          "text": [
            "Best parameters for SVR: {'C': 10, 'gamma': 'auto', 'kernel': 'linear'}\n",
            "Best MSE for SVR: 5390.8338\n",
            "------------------------------\n",
            "Running GridSearchCV for DecisionTreeRegressor.\n",
            "Fitting 5 folds for each of 27 candidates, totalling 135 fits\n"
          ]
        },
        {
          "output_type": "stream",
          "name": "stderr",
          "text": [
            "/usr/local/lib/python3.10/dist-packages/sklearn/model_selection/_split.py:700: UserWarning: The least populated class in y has only 1 members, which is less than n_splits=5.\n",
            "  warnings.warn(\n"
          ]
        },
        {
          "output_type": "stream",
          "name": "stdout",
          "text": [
            "Best parameters for DecisionTreeRegressor: {'max_depth': None, 'min_samples_leaf': 10, 'min_samples_split': 2}\n",
            "Best MSE for DecisionTreeRegressor: 4451.3790\n",
            "------------------------------\n",
            "Running GridSearchCV for KNeighborsRegressor.\n",
            "Fitting 5 folds for each of 18 candidates, totalling 90 fits\n",
            "Best parameters for KNeighborsRegressor: {'metric': 'euclidean', 'n_neighbors': 10, 'weights': 'distance'}\n",
            "Best MSE for KNeighborsRegressor: 3605.4130\n",
            "------------------------------\n",
            "Running GridSearchCV for XGBoostRegressor.\n",
            "Fitting 5 folds for each of 27 candidates, totalling 135 fits\n"
          ]
        },
        {
          "output_type": "stream",
          "name": "stderr",
          "text": [
            "/usr/local/lib/python3.10/dist-packages/sklearn/model_selection/_split.py:700: UserWarning: The least populated class in y has only 1 members, which is less than n_splits=5.\n",
            "  warnings.warn(\n",
            "/usr/local/lib/python3.10/dist-packages/sklearn/model_selection/_split.py:700: UserWarning: The least populated class in y has only 1 members, which is less than n_splits=5.\n",
            "  warnings.warn(\n"
          ]
        },
        {
          "output_type": "stream",
          "name": "stdout",
          "text": [
            "Best parameters for XGBoostRegressor: {'learning_rate': 0.1, 'max_depth': 3, 'n_estimators': 50}\n",
            "Best MSE for XGBoostRegressor: 3457.2242\n",
            "------------------------------\n",
            "Running GridSearchCV for HuberRegressor.\n",
            "Fitting 5 folds for each of 9 candidates, totalling 45 fits\n"
          ]
        },
        {
          "output_type": "stream",
          "name": "stderr",
          "text": [
            "/usr/local/lib/python3.10/dist-packages/sklearn/model_selection/_split.py:700: UserWarning: The least populated class in y has only 1 members, which is less than n_splits=5.\n",
            "  warnings.warn(\n"
          ]
        },
        {
          "output_type": "stream",
          "name": "stdout",
          "text": [
            "Best parameters for HuberRegressor: {'alpha': 0.001, 'epsilon': 1.75}\n",
            "Best MSE for HuberRegressor: 3073.5505\n",
            "------------------------------\n",
            "Running GridSearchCV for Lars.\n",
            "Fitting 5 folds for each of 2 candidates, totalling 10 fits\n",
            "Best parameters for Lars: {'n_nonzero_coefs': 1}\n",
            "Best MSE for Lars: 5607.6565\n",
            "------------------------------\n",
            "Running GridSearchCV for TheilSenRegressor.\n",
            "Fitting 5 folds for each of 2 candidates, totalling 10 fits\n"
          ]
        },
        {
          "output_type": "stream",
          "name": "stderr",
          "text": [
            "/usr/local/lib/python3.10/dist-packages/sklearn/model_selection/_split.py:700: UserWarning: The least populated class in y has only 1 members, which is less than n_splits=5.\n",
            "  warnings.warn(\n",
            "/usr/local/lib/python3.10/dist-packages/sklearn/model_selection/_validation.py:378: FitFailedWarning: \n",
            "5 fits failed out of a total of 10.\n",
            "The score on these train-test partitions for these parameters will be set to nan.\n",
            "If these failures are not expected, you can try to debug them by setting error_score='raise'.\n",
            "\n",
            "Below are more details about the failures:\n",
            "--------------------------------------------------------------------------------\n",
            "5 fits failed with the following error:\n",
            "Traceback (most recent call last):\n",
            "  File \"/usr/local/lib/python3.10/dist-packages/sklearn/model_selection/_validation.py\", line 686, in _fit_and_score\n",
            "    estimator.fit(X_train, y_train, **fit_params)\n",
            "  File \"/usr/local/lib/python3.10/dist-packages/sklearn/linear_model/_least_angle.py\", line 1123, in fit\n",
            "    self._validate_params()\n",
            "  File \"/usr/local/lib/python3.10/dist-packages/sklearn/base.py\", line 600, in _validate_params\n",
            "    validate_parameter_constraints(\n",
            "  File \"/usr/local/lib/python3.10/dist-packages/sklearn/utils/_param_validation.py\", line 97, in validate_parameter_constraints\n",
            "    raise InvalidParameterError(\n",
            "sklearn.utils._param_validation.InvalidParameterError: The 'n_nonzero_coefs' parameter of Lars must be an int in the range [1, inf). Got inf instead.\n",
            "\n",
            "  warnings.warn(some_fits_failed_message, FitFailedWarning)\n",
            "/usr/local/lib/python3.10/dist-packages/sklearn/model_selection/_search.py:952: UserWarning: One or more of the test scores are non-finite: [-5607.65647515            nan]\n",
            "  warnings.warn(\n",
            "/usr/local/lib/python3.10/dist-packages/sklearn/model_selection/_split.py:700: UserWarning: The least populated class in y has only 1 members, which is less than n_splits=5.\n",
            "  warnings.warn(\n"
          ]
        },
        {
          "output_type": "stream",
          "name": "stdout",
          "text": [
            "Best parameters for TheilSenRegressor: {'max_subpopulation': 20000}\n",
            "Best MSE for TheilSenRegressor: 3117.2900\n",
            "------------------------------\n",
            "Running GridSearchCV for SGDRegressor.\n",
            "Fitting 5 folds for each of 36 candidates, totalling 180 fits\n"
          ]
        },
        {
          "output_type": "stream",
          "name": "stderr",
          "text": [
            "/usr/local/lib/python3.10/dist-packages/sklearn/model_selection/_split.py:700: UserWarning: The least populated class in y has only 1 members, which is less than n_splits=5.\n",
            "  warnings.warn(\n",
            "/usr/local/lib/python3.10/dist-packages/sklearn/model_selection/_validation.py:378: FitFailedWarning: \n",
            "45 fits failed out of a total of 180.\n",
            "The score on these train-test partitions for these parameters will be set to nan.\n",
            "If these failures are not expected, you can try to debug them by setting error_score='raise'.\n",
            "\n",
            "Below are more details about the failures:\n",
            "--------------------------------------------------------------------------------\n",
            "14 fits failed with the following error:\n",
            "Traceback (most recent call last):\n",
            "  File \"/usr/local/lib/python3.10/dist-packages/sklearn/model_selection/_validation.py\", line 686, in _fit_and_score\n",
            "    estimator.fit(X_train, y_train, **fit_params)\n",
            "  File \"/usr/local/lib/python3.10/dist-packages/sklearn/linear_model/_stochastic_gradient.py\", line 1582, in fit\n",
            "    self._validate_params()\n",
            "  File \"/usr/local/lib/python3.10/dist-packages/sklearn/base.py\", line 600, in _validate_params\n",
            "    validate_parameter_constraints(\n",
            "  File \"/usr/local/lib/python3.10/dist-packages/sklearn/utils/_param_validation.py\", line 97, in validate_parameter_constraints\n",
            "    raise InvalidParameterError(\n",
            "sklearn.utils._param_validation.InvalidParameterError: The 'loss' parameter of SGDRegressor must be a str among {'epsilon_insensitive', 'squared_epsilon_insensitive', 'squared_error', 'huber'}. Got 'squared_loss' instead.\n",
            "\n",
            "--------------------------------------------------------------------------------\n",
            "31 fits failed with the following error:\n",
            "Traceback (most recent call last):\n",
            "  File \"/usr/local/lib/python3.10/dist-packages/sklearn/model_selection/_validation.py\", line 686, in _fit_and_score\n",
            "    estimator.fit(X_train, y_train, **fit_params)\n",
            "  File \"/usr/local/lib/python3.10/dist-packages/sklearn/linear_model/_stochastic_gradient.py\", line 1582, in fit\n",
            "    self._validate_params()\n",
            "  File \"/usr/local/lib/python3.10/dist-packages/sklearn/base.py\", line 600, in _validate_params\n",
            "    validate_parameter_constraints(\n",
            "  File \"/usr/local/lib/python3.10/dist-packages/sklearn/utils/_param_validation.py\", line 97, in validate_parameter_constraints\n",
            "    raise InvalidParameterError(\n",
            "sklearn.utils._param_validation.InvalidParameterError: The 'loss' parameter of SGDRegressor must be a str among {'squared_error', 'squared_epsilon_insensitive', 'huber', 'epsilon_insensitive'}. Got 'squared_loss' instead.\n",
            "\n",
            "  warnings.warn(some_fits_failed_message, FitFailedWarning)\n",
            "/usr/local/lib/python3.10/dist-packages/sklearn/model_selection/_search.py:952: UserWarning: One or more of the test scores are non-finite: [            nan             nan             nan -24956.79972386\n",
            " -24956.63366627 -24956.66462789  -8126.17581682  -8125.89582506\n",
            "  -8125.94433066  -3293.41658251  -3298.47197152  -3297.70954369\n",
            "             nan             nan             nan -24956.87780519\n",
            " -24956.65070198 -24956.83588     -8130.52055379  -8127.68206519\n",
            "  -8128.00682221  -3293.74412523  -3346.68186928  -3338.44129048\n",
            "             nan             nan             nan -24956.87780519\n",
            " -24956.75647117 -24956.87780519  -8165.03465789  -8140.47143668\n",
            "  -8142.97745909  -3297.06299795  -3890.40902528  -3800.06198897]\n",
            "  warnings.warn(\n",
            "/usr/local/lib/python3.10/dist-packages/sklearn/model_selection/_split.py:700: UserWarning: The least populated class in y has only 1 members, which is less than n_splits=5.\n",
            "  warnings.warn(\n",
            "/usr/local/lib/python3.10/dist-packages/sklearn/model_selection/_split.py:700: UserWarning: The least populated class in y has only 1 members, which is less than n_splits=5.\n",
            "  warnings.warn(\n"
          ]
        },
        {
          "output_type": "stream",
          "name": "stdout",
          "text": [
            "Best parameters for SGDRegressor: {'alpha': 0.0001, 'loss': 'squared_epsilon_insensitive', 'penalty': 'l1'}\n",
            "Best MSE for SGDRegressor: 3293.4166\n",
            "------------------------------\n",
            "Running GridSearchCV for LinearSVR.\n",
            "Fitting 5 folds for each of 12 candidates, totalling 60 fits\n",
            "Best parameters for LinearSVR: {'C': 10, 'loss': 'squared_epsilon_insensitive', 'max_iter': 10000}\n",
            "Best MSE for LinearSVR: 3064.3534\n",
            "------------------------------\n",
            "Running GridSearchCV for Lasso.\n",
            "Fitting 5 folds for each of 6 candidates, totalling 30 fits\n",
            "Best parameters for Lasso: {'alpha': 0.001, 'max_iter': 1000}\n",
            "Best MSE for Lasso: 3069.0442\n",
            "------------------------------\n",
            "AdaBoostRegressor Test MSE: 2721.4364\n",
            "Ridge Test MSE: 2856.4869\n",
            "ElasticNet Test MSE: 3792.1292\n",
            "GradientBoostingRegressor Test MSE: 2779.9946\n",
            "RandomForestRegressor Test MSE: 2902.3291\n",
            "BaggingRegressor Test MSE: 2996.9026\n",
            "ExtraTreesRegressor Test MSE: 2628.4431\n",
            "NuSVR Test MSE: 5096.6584\n",
            "SVR Test MSE: 4419.7927\n",
            "DecisionTreeRegressor Test MSE: 3545.0207\n",
            "KNeighborsRegressor Test MSE: 3046.5511\n",
            "XGBoostRegressor Test MSE: 2852.8569\n",
            "HuberRegressor Test MSE: 2882.1884\n",
            "Lars Test MSE: 4875.1346\n",
            "TheilSenRegressor Test MSE: 2904.8650\n",
            "SGDRegressor Test MSE: 2912.5290\n",
            "LinearSVR Test MSE: 2866.5143\n",
            "Lasso Test MSE: 2896.4098\n"
          ]
        }
      ]
    }
  ]
}